{
 "cells": [
  {
   "metadata": {},
   "cell_type": "markdown",
   "source": [
    "**What are array operations?**\n",
    "\n",
    "Array operations refer to various mathematical operations that can be performed\n",
    "element-wise or vectorially on NumPy arrays. These operations allow you to perform\n",
    "common calculations like addition, subtraction, multiplication, division,\n",
    "exponentiation, and more, as well as some specialized operations like sorting,\n",
    "reshaping, and aggregating.\n",
    "\n",
    "**Common array operations:**\n",
    "\n",
    "1. **Element-wise operations**: Perform an operation on each element of the array.\n",
    "        * Example: `a + b` (addition) or `a * 2` (multiplication by a scalar)\n",
    "2. **Broadcasting**: Perform an operation on arrays with different shapes, where one\n",
    "array has a larger shape than the other.\n",
    "        * Example: `a + [1, 2, 3]` (broadcasting a scalar to match the shape of `a`)\n",
    "3. **Vectorized operations**: Perform operations that can be applied element-wise or\n",
    "vectorially on entire arrays.\n",
    "        * Example: `np.sin(a)` (compute sine values for each element in `a`)\n",
    "\n",
    "**How to achieve array operations:**\n",
    "\n",
    "To perform array operations, you can use the following methods:\n",
    "\n",
    "1. **Use NumPy functions**: Many NumPy functions are designed to work with arrays,\n",
    "such as:\n",
    "        * Arithmetic operators (`+`, `-`, `*`, `/`)\n",
    "        * Mathematical functions (e.g., `sin`, `cos`, `exp`)\n",
    "        * Statistical functions (e.g., `mean`, `median`, `std`)\n",
    "2. **Use array methods**: NumPy arrays have several built-in methods that can be\n",
    "used to perform operations:\n",
    "        * `a += b` (addition)\n",
    "        * `a *= 2` (multiplication by a scalar)\n",
    "        * `np.sort(a)` (sort the elements of `a`)\n",
    "3. **Use indexing and slicing**: Use NumPy's indexing and slicing capabilities to\n",
    "access specific parts of an array:\n",
    "        * `a[1:3]` (get the second and third elements of `a`)\n",
    "        * `a[:, 1:]` (get all rows and columns except the first)\n"
   ],
   "id": "ee11d240076fb7ad"
  },
  {
   "metadata": {
    "ExecuteTime": {
     "end_time": "2025-02-02T16:32:46.900593Z",
     "start_time": "2025-02-02T16:32:46.576945Z"
    }
   },
   "cell_type": "code",
   "source": [
    "import numpy as np\n",
    "\n",
    "arr = np.arange(1,20,dtype=np.int8)\n",
    "print(arr)"
   ],
   "id": "1ec2eb748b3a4ba2",
   "outputs": [
    {
     "name": "stdout",
     "output_type": "stream",
     "text": [
      "[ 1  2  3  4  5  6  7  8  9 10 11 12 13 14 15 16 17 18 19]\n"
     ]
    }
   ],
   "execution_count": 1
  },
  {
   "metadata": {},
   "cell_type": "markdown",
   "source": [
    "### max/min/sum/prod function\n",
    "1. **`np.max(arr)`**\n",
    "Computes the maximum (largest) value in the input array `arr`.\n",
    "2. **`np.min(arr)`**\n",
    "Computes the minimum (smallest) value in the input array `arr`.\n",
    "3. **`np.sum(arr)`**\n",
    "Computes the sum of all elements in the input array `arr`.\n",
    "4. **`np.prod(arr)`**\n",
    "Computes the product (multiplication) of all elements in the input array `arr`.\n"
   ],
   "id": "fda47573566c3900"
  },
  {
   "metadata": {
    "ExecuteTime": {
     "end_time": "2025-02-02T16:32:46.963092Z",
     "start_time": "2025-02-02T16:32:46.931850Z"
    }
   },
   "cell_type": "code",
   "source": [
    "# max/min/sum/prod\n",
    "# 0 -> col and 1 -> row\n",
    "print(arr.max())\n",
    "print(arr.min())\n",
    "print(arr.sum())\n",
    "print(arr.prod())"
   ],
   "id": "847c0aa8d13296b3",
   "outputs": [
    {
     "name": "stdout",
     "output_type": "stream",
     "text": [
      "19\n",
      "1\n",
      "190\n",
      "121645100408832000\n"
     ]
    }
   ],
   "execution_count": 2
  },
  {
   "metadata": {},
   "cell_type": "markdown",
   "source": [
    "### mean/median/std/var\n",
    "1. **`np.mean(arr)`**\n",
    "Computes the arithmetic mean (average) of the elements in the input array `arr`.\n",
    "2. **`np.median(arr)`**\n",
    "Computes the median (middle value) of the elements in the input array `arr`.\n",
    "3. **`np.std(arr)`**\n",
    "Computes the standard deviation (a measure of volatility) of the elements in the input array `arr`.\n",
    "4. **`np.var(arr)`**\n",
    "Computes the variance (a measure of spread) of the elements in the input array `arr`.\n",
    "\n"
   ],
   "id": "cf9421972f66b065"
  },
  {
   "metadata": {
    "ExecuteTime": {
     "end_time": "2025-02-02T16:32:47.804651Z",
     "start_time": "2025-02-02T16:32:47.757774Z"
    }
   },
   "cell_type": "code",
   "source": [
    "print(arr.mean()) #10.0\n",
    "print(np.median(arr)) #10.0\n",
    "print(np.std(arr)) #5.477225575051661\n",
    "print(np.var(arr)) #30.0"
   ],
   "id": "d8bd95fd020d87c1",
   "outputs": [
    {
     "name": "stdout",
     "output_type": "stream",
     "text": [
      "10.0\n",
      "10.0\n",
      "5.477225575051661\n",
      "30.0\n"
     ]
    }
   ],
   "execution_count": 3
  },
  {
   "metadata": {},
   "cell_type": "markdown",
   "source": "### Trigonometric functions",
   "id": "bbd91b402f28b4cc"
  },
  {
   "metadata": {
    "ExecuteTime": {
     "end_time": "2025-02-02T16:32:47.935873Z",
     "start_time": "2025-02-02T16:32:47.920222Z"
    }
   },
   "cell_type": "code",
   "source": [
    "a = np.array([1,2,3,-4,5])\n",
    "print(a)"
   ],
   "id": "90cee57bd420b48b",
   "outputs": [
    {
     "name": "stdout",
     "output_type": "stream",
     "text": [
      "[ 1  2  3 -4  5]\n"
     ]
    }
   ],
   "execution_count": 4
  },
  {
   "metadata": {
    "ExecuteTime": {
     "end_time": "2025-02-02T16:32:48.062051Z",
     "start_time": "2025-02-02T16:32:48.030808Z"
    }
   },
   "cell_type": "code",
   "source": [
    "print(np.sign(a))\n",
    "print(np.cos(a))\n",
    "print(np.tan(a))"
   ],
   "id": "7a443f5b7f650dad",
   "outputs": [
    {
     "name": "stdout",
     "output_type": "stream",
     "text": [
      "[ 1  1  1 -1  1]\n",
      "[ 0.54030231 -0.41614684 -0.9899925  -0.65364362  0.28366219]\n",
      "[ 1.55740772 -2.18503986 -0.14254654 -1.15782128 -3.38051501]\n"
     ]
    }
   ],
   "execution_count": 5
  },
  {
   "metadata": {},
   "cell_type": "markdown",
   "source": "### dot product",
   "id": "6b3db3a4d007714d"
  },
  {
   "metadata": {
    "ExecuteTime": {
     "end_time": "2025-02-02T16:32:48.321394Z",
     "start_time": "2025-02-02T16:32:48.269081Z"
    }
   },
   "cell_type": "code",
   "source": [
    "a = np.random.random(10)\n",
    "b = np.random.random(10)\n",
    "print(np.dot(a,b))"
   ],
   "id": "b1c06bcc7b25357b",
   "outputs": [
    {
     "name": "stdout",
     "output_type": "stream",
     "text": [
      "2.001595248981208\n"
     ]
    }
   ],
   "execution_count": 6
  },
  {
   "metadata": {},
   "cell_type": "markdown",
   "source": "### log and exponents",
   "id": "ca7e7976265abf3e"
  },
  {
   "metadata": {
    "ExecuteTime": {
     "end_time": "2025-02-02T16:32:48.453601Z",
     "start_time": "2025-02-02T16:32:48.422356Z"
    }
   },
   "cell_type": "code",
   "source": [
    "a = np.random.random(10)\n",
    "b = np.random.random(10)\n",
    "print(np.log(a))\n",
    "print(np.exp(a))"
   ],
   "id": "4b256ef314c32f6a",
   "outputs": [
    {
     "name": "stdout",
     "output_type": "stream",
     "text": [
      "[-4.30067061 -0.08641826 -0.45351474 -1.67287303 -0.12754999 -1.28366697\n",
      " -0.59624062 -0.28199393 -0.06288665 -0.69388431]\n",
      "[1.01365181 2.50230052 1.88776009 1.20647997 2.41150108 1.31919224\n",
      " 1.73477672 2.12607651 2.55755036 1.64811395]\n"
     ]
    }
   ],
   "execution_count": 7
  },
  {
   "metadata": {},
   "cell_type": "markdown",
   "source": "### round/floor/ceil",
   "id": "10c5d02f1ae61145"
  },
  {
   "metadata": {
    "ExecuteTime": {
     "end_time": "2025-02-02T16:32:48.557718Z",
     "start_time": "2025-02-02T16:32:48.526466Z"
    }
   },
   "cell_type": "code",
   "source": [
    "a = np.random.random(10)\n",
    "print(a)\n",
    "print(np.round(a))\n",
    "print(np.floor(a))\n",
    "print(np.ceil(a))"
   ],
   "id": "57b684790add8038",
   "outputs": [
    {
     "name": "stdout",
     "output_type": "stream",
     "text": [
      "[0.33225133 0.6560011  0.93785247 0.95602095 0.6489971  0.00975162\n",
      " 0.26752498 0.4190788  0.52768324 0.14840718]\n",
      "[0. 1. 1. 1. 1. 0. 0. 0. 1. 0.]\n",
      "[0. 0. 0. 0. 0. 0. 0. 0. 0. 0.]\n",
      "[1. 1. 1. 1. 1. 1. 1. 1. 1. 1.]\n"
     ]
    }
   ],
   "execution_count": 8
  },
  {
   "metadata": {},
   "cell_type": "markdown",
   "source": "### Indexing and Slicing",
   "id": "b3aaff4fc7679130"
  },
  {
   "metadata": {
    "ExecuteTime": {
     "end_time": "2025-02-02T16:32:48.707505Z",
     "start_time": "2025-02-02T16:32:48.676254Z"
    }
   },
   "cell_type": "code",
   "source": [
    "a1 = np.arange(10)\n",
    "a2 = np.arange(12).reshape(3,4)\n",
    "a3 = np.arange(8).reshape(2,2,2)\n",
    "print(a1)\n",
    "print(a2)\n",
    "print(a3)"
   ],
   "id": "d48e00979360243b",
   "outputs": [
    {
     "name": "stdout",
     "output_type": "stream",
     "text": [
      "[0 1 2 3 4 5 6 7 8 9]\n",
      "[[ 0  1  2  3]\n",
      " [ 4  5  6  7]\n",
      " [ 8  9 10 11]]\n",
      "[[[0 1]\n",
      "  [2 3]]\n",
      "\n",
      " [[4 5]\n",
      "  [6 7]]]\n"
     ]
    }
   ],
   "execution_count": 9
  },
  {
   "metadata": {
    "ExecuteTime": {
     "end_time": "2025-02-02T16:32:48.894063Z",
     "start_time": "2025-02-02T16:32:48.847184Z"
    }
   },
   "cell_type": "code",
   "source": "a1",
   "id": "c1fe5a8041c9460f",
   "outputs": [
    {
     "data": {
      "text/plain": [
       "array([0, 1, 2, 3, 4, 5, 6, 7, 8, 9])"
      ]
     },
     "execution_count": 10,
     "metadata": {},
     "output_type": "execute_result"
    }
   ],
   "execution_count": 10
  },
  {
   "metadata": {
    "ExecuteTime": {
     "end_time": "2025-02-02T16:32:49.094830Z",
     "start_time": "2025-02-02T16:32:49.063581Z"
    }
   },
   "cell_type": "code",
   "source": [
    "# 5\n",
    "print(a1[5])"
   ],
   "id": "f59e0568bc044aa6",
   "outputs": [
    {
     "name": "stdout",
     "output_type": "stream",
     "text": [
      "5\n"
     ]
    }
   ],
   "execution_count": 11
  },
  {
   "metadata": {
    "ExecuteTime": {
     "end_time": "2025-02-02T16:32:49.270743Z",
     "start_time": "2025-02-02T16:32:49.246448Z"
    }
   },
   "cell_type": "code",
   "source": "print(a2)",
   "id": "ff5f2f80dc682af9",
   "outputs": [
    {
     "name": "stdout",
     "output_type": "stream",
     "text": [
      "[[ 0  1  2  3]\n",
      " [ 4  5  6  7]\n",
      " [ 8  9 10 11]]\n"
     ]
    }
   ],
   "execution_count": 12
  },
  {
   "metadata": {
    "ExecuteTime": {
     "end_time": "2025-02-02T16:32:49.516604Z",
     "start_time": "2025-02-02T16:32:49.485352Z"
    }
   },
   "cell_type": "code",
   "source": [
    "#10\n",
    "print(a2[2,2])"
   ],
   "id": "c4e68a498565da2b",
   "outputs": [
    {
     "name": "stdout",
     "output_type": "stream",
     "text": [
      "10\n"
     ]
    }
   ],
   "execution_count": 13
  },
  {
   "metadata": {
    "ExecuteTime": {
     "end_time": "2025-02-02T16:32:49.695865Z",
     "start_time": "2025-02-02T16:32:49.663725Z"
    }
   },
   "cell_type": "code",
   "source": [
    "#5\n",
    "print(a3[1,0,1])"
   ],
   "id": "ff9b3f9c52cf2281",
   "outputs": [
    {
     "name": "stdout",
     "output_type": "stream",
     "text": [
      "5\n"
     ]
    }
   ],
   "execution_count": 14
  },
  {
   "metadata": {},
   "cell_type": "markdown",
   "source": "### Iterating",
   "id": "36d0633b1a3b9b57"
  },
  {
   "metadata": {
    "ExecuteTime": {
     "end_time": "2025-02-02T16:32:49.826377Z",
     "start_time": "2025-02-02T16:32:49.795117Z"
    }
   },
   "cell_type": "code",
   "source": "print(arr)",
   "id": "a659d38f716aa564",
   "outputs": [
    {
     "name": "stdout",
     "output_type": "stream",
     "text": [
      "[ 1  2  3  4  5  6  7  8  9 10 11 12 13 14 15 16 17 18 19]\n"
     ]
    }
   ],
   "execution_count": 15
  },
  {
   "metadata": {
    "ExecuteTime": {
     "end_time": "2025-02-02T16:32:49.997626Z",
     "start_time": "2025-02-02T16:32:49.966370Z"
    }
   },
   "cell_type": "code",
   "source": [
    "for a in arr:\n",
    "    print(a)"
   ],
   "id": "e93de74d775924ee",
   "outputs": [
    {
     "name": "stdout",
     "output_type": "stream",
     "text": [
      "1\n",
      "2\n",
      "3\n",
      "4\n",
      "5\n",
      "6\n",
      "7\n",
      "8\n",
      "9\n",
      "10\n",
      "11\n",
      "12\n",
      "13\n",
      "14\n",
      "15\n",
      "16\n",
      "17\n",
      "18\n",
      "19\n"
     ]
    }
   ],
   "execution_count": 16
  },
  {
   "metadata": {
    "ExecuteTime": {
     "end_time": "2025-02-02T16:32:50.194895Z",
     "start_time": "2025-02-02T16:32:50.170674Z"
    }
   },
   "cell_type": "code",
   "source": "print(a2)",
   "id": "d464d6421bcffd56",
   "outputs": [
    {
     "name": "stdout",
     "output_type": "stream",
     "text": [
      "[[ 0  1  2  3]\n",
      " [ 4  5  6  7]\n",
      " [ 8  9 10 11]]\n"
     ]
    }
   ],
   "execution_count": 17
  },
  {
   "metadata": {
    "ExecuteTime": {
     "end_time": "2025-02-02T16:32:50.320841Z",
     "start_time": "2025-02-02T16:32:50.289588Z"
    }
   },
   "cell_type": "code",
   "source": [
    "for a in a2:\n",
    "    print(a)"
   ],
   "id": "759df12a445fee8f",
   "outputs": [
    {
     "name": "stdout",
     "output_type": "stream",
     "text": [
      "[0 1 2 3]\n",
      "[4 5 6 7]\n",
      "[ 8  9 10 11]\n"
     ]
    }
   ],
   "execution_count": 18
  },
  {
   "metadata": {
    "ExecuteTime": {
     "end_time": "2025-02-02T16:32:50.508518Z",
     "start_time": "2025-02-02T16:32:50.477259Z"
    }
   },
   "cell_type": "code",
   "source": "print(a3)",
   "id": "83bdafc13558cef0",
   "outputs": [
    {
     "name": "stdout",
     "output_type": "stream",
     "text": [
      "[[[0 1]\n",
      "  [2 3]]\n",
      "\n",
      " [[4 5]\n",
      "  [6 7]]]\n"
     ]
    }
   ],
   "execution_count": 19
  },
  {
   "metadata": {
    "ExecuteTime": {
     "end_time": "2025-02-02T16:32:50.690085Z",
     "start_time": "2025-02-02T16:32:50.666802Z"
    }
   },
   "cell_type": "code",
   "source": [
    "for a in a3:\n",
    "    print(a)"
   ],
   "id": "6ab3de3cead047b6",
   "outputs": [
    {
     "name": "stdout",
     "output_type": "stream",
     "text": [
      "[[0 1]\n",
      " [2 3]]\n",
      "[[4 5]\n",
      " [6 7]]\n"
     ]
    }
   ],
   "execution_count": 20
  },
  {
   "metadata": {
    "ExecuteTime": {
     "end_time": "2025-02-02T16:32:50.884643Z",
     "start_time": "2025-02-02T16:32:50.853394Z"
    }
   },
   "cell_type": "code",
   "source": [
    "for a in np.nditer(arr):\n",
    "    print(a)"
   ],
   "id": "5caf5ee774e5d6ee",
   "outputs": [
    {
     "name": "stdout",
     "output_type": "stream",
     "text": [
      "1\n",
      "2\n",
      "3\n",
      "4\n",
      "5\n",
      "6\n",
      "7\n",
      "8\n",
      "9\n",
      "10\n",
      "11\n",
      "12\n",
      "13\n",
      "14\n",
      "15\n",
      "16\n",
      "17\n",
      "18\n",
      "19\n"
     ]
    }
   ],
   "execution_count": 21
  },
  {
   "metadata": {},
   "cell_type": "markdown",
   "source": "### Reshape",
   "id": "300ce82087cb4eea"
  },
  {
   "metadata": {
    "ExecuteTime": {
     "end_time": "2025-02-02T16:32:51.068653Z",
     "start_time": "2025-02-02T16:32:51.053034Z"
    }
   },
   "cell_type": "code",
   "source": [
    "reshape = np.arange(8).reshape(2,2,2)\n",
    "print(reshape)"
   ],
   "id": "ca9b72ef0705cf66",
   "outputs": [
    {
     "name": "stdout",
     "output_type": "stream",
     "text": [
      "[[[0 1]\n",
      "  [2 3]]\n",
      "\n",
      " [[4 5]\n",
      "  [6 7]]]\n"
     ]
    }
   ],
   "execution_count": 22
  },
  {
   "metadata": {
    "ExecuteTime": {
     "end_time": "2025-02-02T16:32:51.327606Z",
     "start_time": "2025-02-02T16:32:51.303410Z"
    }
   },
   "cell_type": "code",
   "source": [
    "reshape2 = np.arange(8).reshape(4,2)\n",
    "print(reshape2)"
   ],
   "id": "a76a577eb3230b6",
   "outputs": [
    {
     "name": "stdout",
     "output_type": "stream",
     "text": [
      "[[0 1]\n",
      " [2 3]\n",
      " [4 5]\n",
      " [6 7]]\n"
     ]
    }
   ],
   "execution_count": 23
  },
  {
   "metadata": {},
   "cell_type": "markdown",
   "source": "### Transpose",
   "id": "3491f694ca893017"
  },
  {
   "metadata": {
    "ExecuteTime": {
     "end_time": "2025-02-02T16:32:51.824920Z",
     "start_time": "2025-02-02T16:32:51.800342Z"
    }
   },
   "cell_type": "code",
   "source": [
    "transpose = np.array([1,2,3,4,5,6,7,8],dtype=np.int8).reshape(2,4)\n",
    "print(transpose)\n",
    "print(np.transpose(transpose))\n",
    "print(transpose.T)"
   ],
   "id": "7b08125e1729bd77",
   "outputs": [
    {
     "name": "stdout",
     "output_type": "stream",
     "text": [
      "[[1 2 3 4]\n",
      " [5 6 7 8]]\n",
      "[[1 5]\n",
      " [2 6]\n",
      " [3 7]\n",
      " [4 8]]\n",
      "[[1 5]\n",
      " [2 6]\n",
      " [3 7]\n",
      " [4 8]]\n"
     ]
    }
   ],
   "execution_count": 24
  },
  {
   "metadata": {},
   "cell_type": "markdown",
   "source": "### Revel",
   "id": "11da1ab99e184587"
  },
  {
   "metadata": {
    "ExecuteTime": {
     "end_time": "2025-02-02T16:32:52.118440Z",
     "start_time": "2025-02-02T16:32:52.087192Z"
    }
   },
   "cell_type": "code",
   "source": [
    "revel = np.arange(12).reshape(2,2,3)\n",
    "print(revel)\n",
    "print(np.ravel(revel))"
   ],
   "id": "3deed79d5a2c645e",
   "outputs": [
    {
     "name": "stdout",
     "output_type": "stream",
     "text": [
      "[[[ 0  1  2]\n",
      "  [ 3  4  5]]\n",
      "\n",
      " [[ 6  7  8]\n",
      "  [ 9 10 11]]]\n",
      "[ 0  1  2  3  4  5  6  7  8  9 10 11]\n"
     ]
    }
   ],
   "execution_count": 25
  },
  {
   "metadata": {},
   "cell_type": "markdown",
   "source": "### Stacking",
   "id": "3fd373683de0e3a4"
  },
  {
   "metadata": {
    "ExecuteTime": {
     "end_time": "2025-02-02T16:32:52.323929Z",
     "start_time": "2025-02-02T16:32:52.292761Z"
    }
   },
   "cell_type": "code",
   "source": [
    "a4 = np.arange(12).reshape(3,4)\n",
    "a5 = np.arange(12,24).reshape(3,4)\n",
    "print(a4)\n",
    "print(a5)"
   ],
   "id": "6b2d3ab5b145aeb1",
   "outputs": [
    {
     "name": "stdout",
     "output_type": "stream",
     "text": [
      "[[ 0  1  2  3]\n",
      " [ 4  5  6  7]\n",
      " [ 8  9 10 11]]\n",
      "[[12 13 14 15]\n",
      " [16 17 18 19]\n",
      " [20 21 22 23]]\n"
     ]
    }
   ],
   "execution_count": 26
  },
  {
   "metadata": {
    "ExecuteTime": {
     "end_time": "2025-02-02T16:32:52.470992Z",
     "start_time": "2025-02-02T16:32:52.450605Z"
    }
   },
   "cell_type": "code",
   "source": [
    "#hstack-horizontally stacking\n",
    "print(np.hstack((a4,a5)))"
   ],
   "id": "b0a3391541843e9",
   "outputs": [
    {
     "name": "stdout",
     "output_type": "stream",
     "text": [
      "[[ 0  1  2  3 12 13 14 15]\n",
      " [ 4  5  6  7 16 17 18 19]\n",
      " [ 8  9 10 11 20 21 22 23]]\n"
     ]
    }
   ],
   "execution_count": 27
  },
  {
   "metadata": {
    "ExecuteTime": {
     "end_time": "2025-02-02T16:32:52.575210Z",
     "start_time": "2025-02-02T16:32:52.550106Z"
    }
   },
   "cell_type": "code",
   "source": [
    "#vstack-Vertically stacking\n",
    "print(np.vstack((a4,a5)))"
   ],
   "id": "89aba14512069b15",
   "outputs": [
    {
     "name": "stdout",
     "output_type": "stream",
     "text": [
      "[[ 0  1  2  3]\n",
      " [ 4  5  6  7]\n",
      " [ 8  9 10 11]\n",
      " [12 13 14 15]\n",
      " [16 17 18 19]\n",
      " [20 21 22 23]]\n"
     ]
    }
   ],
   "execution_count": 28
  },
  {
   "metadata": {},
   "cell_type": "markdown",
   "source": "### Splitting",
   "id": "68b309505d0c5cdd"
  },
  {
   "metadata": {
    "ExecuteTime": {
     "end_time": "2025-02-02T16:32:52.776184Z",
     "start_time": "2025-02-02T16:32:52.744930Z"
    }
   },
   "cell_type": "code",
   "source": [
    "h_split = np.hsplit(a4,2)\n",
    "for i,j in enumerate(h_split):\n",
    "    print(f\"Column {i} \")\n",
    "    print(j)"
   ],
   "id": "7bdb27d9e0337a1a",
   "outputs": [
    {
     "name": "stdout",
     "output_type": "stream",
     "text": [
      "Column 0 \n",
      "[[0 1]\n",
      " [4 5]\n",
      " [8 9]]\n",
      "Column 1 \n",
      "[[ 2  3]\n",
      " [ 6  7]\n",
      " [10 11]]\n"
     ]
    }
   ],
   "execution_count": 29
  },
  {
   "metadata": {
    "ExecuteTime": {
     "end_time": "2025-02-02T16:32:52.869930Z",
     "start_time": "2025-02-02T16:32:52.838681Z"
    }
   },
   "cell_type": "code",
   "source": [
    "arr = np.array([[1, 2, 3], [4, 5, 6], [7, 8, 9]])\n",
    "v_split_arr = np.vsplit(arr, 3)\n",
    "\n",
    "for i, col in enumerate(v_split_arr):\n",
    "    print(f\"Column {i}:\")\n",
    "    print(col)\n"
   ],
   "id": "c4c022d16af6065a",
   "outputs": [
    {
     "name": "stdout",
     "output_type": "stream",
     "text": [
      "Column 0:\n",
      "[[1 2 3]]\n",
      "Column 1:\n",
      "[[4 5 6]]\n",
      "Column 2:\n",
      "[[7 8 9]]\n"
     ]
    }
   ],
   "execution_count": 30
  }
 ],
 "metadata": {
  "kernelspec": {
   "display_name": "Python 3",
   "language": "python",
   "name": "python3"
  },
  "language_info": {
   "codemirror_mode": {
    "name": "ipython",
    "version": 2
   },
   "file_extension": ".py",
   "mimetype": "text/x-python",
   "name": "python",
   "nbconvert_exporter": "python",
   "pygments_lexer": "ipython2",
   "version": "2.7.6"
  }
 },
 "nbformat": 4,
 "nbformat_minor": 5
}
