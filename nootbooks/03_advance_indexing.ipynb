{
 "cells": [
  {
   "metadata": {},
   "cell_type": "markdown",
   "source": "### Numpy array vs list",
   "id": "5a9296e65fffa06e"
  },
  {
   "metadata": {
    "ExecuteTime": {
     "end_time": "2025-02-02T12:10:03.757558Z",
     "start_time": "2025-02-02T12:09:56.580976Z"
    }
   },
   "cell_type": "code",
   "source": [
    "# speed\n",
    "# list\n",
    "a = [i for i in range(10000000)]\n",
    "b = [i for i in range(10000000,20000000)]\n",
    "c = []\n",
    "import time\n",
    "start = time.time()\n",
    "for i in range(len(a)):\n",
    " c.append(a[i] + b[i])\n",
    "print(time.time()-start)"
   ],
   "id": "1023e6c98f7c702",
   "outputs": [
    {
     "name": "stdout",
     "output_type": "stream",
     "text": [
      "4.552371978759766\n"
     ]
    }
   ],
   "execution_count": 1
  },
  {
   "metadata": {
    "ExecuteTime": {
     "end_time": "2025-02-02T12:10:06.122446Z",
     "start_time": "2025-02-02T12:10:03.898223Z"
    }
   },
   "cell_type": "code",
   "source": [
    "# numpy\n",
    "import numpy as np\n",
    "a = np.arange(10000000)\n",
    "b = np.arange(10000000,20000000)\n",
    "start = time.time()\n",
    "c = a + b\n",
    "print(time.time()-start)"
   ],
   "id": "7bf062520ae220e9",
   "outputs": [
    {
     "name": "stdout",
     "output_type": "stream",
     "text": [
      "0.2822256088256836\n"
     ]
    }
   ],
   "execution_count": 2
  },
  {
   "metadata": {
    "ExecuteTime": {
     "end_time": "2025-02-02T12:10:08.195929Z",
     "start_time": "2025-02-02T12:10:07.257633Z"
    }
   },
   "cell_type": "code",
   "source": [
    "# memory\n",
    "a = [i for i in range(10000000)]\n",
    "import sys\n",
    "sys.getsizeof(a)"
   ],
   "id": "1148bdadb7f1b4fa",
   "outputs": [
    {
     "data": {
      "text/plain": [
       "89095160"
      ]
     },
     "execution_count": 3,
     "metadata": {},
     "output_type": "execute_result"
    }
   ],
   "execution_count": 3
  },
  {
   "metadata": {
    "ExecuteTime": {
     "end_time": "2025-02-02T12:10:08.661160Z",
     "start_time": "2025-02-02T12:10:08.416071Z"
    }
   },
   "cell_type": "code",
   "source": [
    "a = np.arange(10000000,dtype=np.int8)\n",
    "sys.getsizeof(a)"
   ],
   "id": "f1a1e52847d6785a",
   "outputs": [
    {
     "data": {
      "text/plain": [
       "10000112"
      ]
     },
     "execution_count": 4,
     "metadata": {},
     "output_type": "execute_result"
    }
   ],
   "execution_count": 4
  },
  {
   "metadata": {},
   "cell_type": "markdown",
   "source": "### Advance Indexing",
   "id": "8147f3d471086530"
  },
  {
   "metadata": {
    "ExecuteTime": {
     "end_time": "2025-02-02T12:13:37.997612Z",
     "start_time": "2025-02-02T12:13:37.981979Z"
    }
   },
   "cell_type": "code",
   "source": [
    "a = np.arange(24).reshape(6,4)\n",
    "print(a)"
   ],
   "id": "86fd5302cf845121",
   "outputs": [
    {
     "name": "stdout",
     "output_type": "stream",
     "text": [
      "[[ 0  1  2  3]\n",
      " [ 4  5  6  7]\n",
      " [ 8  9 10 11]\n",
      " [12 13 14 15]\n",
      " [16 17 18 19]\n",
      " [20 21 22 23]]\n"
     ]
    }
   ],
   "execution_count": 9
  },
  {
   "metadata": {
    "ExecuteTime": {
     "end_time": "2025-02-02T12:17:05.506892Z",
     "start_time": "2025-02-02T12:17:05.475645Z"
    }
   },
   "cell_type": "code",
   "source": "print(a[1,1])",
   "id": "cde673a3013ba983",
   "outputs": [
    {
     "name": "stdout",
     "output_type": "stream",
     "text": [
      "5\n"
     ]
    }
   ],
   "execution_count": 14
  },
  {
   "metadata": {
    "ExecuteTime": {
     "end_time": "2025-02-02T12:17:43.771053Z",
     "start_time": "2025-02-02T12:17:43.746359Z"
    }
   },
   "cell_type": "code",
   "source": "print(a[-1,2])",
   "id": "ef0ef848801056fa",
   "outputs": [
    {
     "name": "stdout",
     "output_type": "stream",
     "text": [
      "22\n"
     ]
    }
   ],
   "execution_count": 16
  },
  {
   "metadata": {
    "ExecuteTime": {
     "end_time": "2025-02-02T12:18:16.326334Z",
     "start_time": "2025-02-02T12:18:16.310708Z"
    }
   },
   "cell_type": "code",
   "source": "print(a[1:3,1:3])",
   "id": "a2497dd588215673",
   "outputs": [
    {
     "name": "stdout",
     "output_type": "stream",
     "text": [
      "[[ 5  6]\n",
      " [ 9 10]]\n"
     ]
    }
   ],
   "execution_count": 17
  },
  {
   "metadata": {
    "ExecuteTime": {
     "end_time": "2025-02-02T12:19:16.477547Z",
     "start_time": "2025-02-02T12:19:16.446291Z"
    }
   },
   "cell_type": "code",
   "source": "print(a[-2:,0:2])",
   "id": "a21db8679ef83ba2",
   "outputs": [
    {
     "name": "stdout",
     "output_type": "stream",
     "text": [
      "[[16 17]\n",
      " [20 21]]\n"
     ]
    }
   ],
   "execution_count": 19
  },
  {
   "metadata": {
    "ExecuteTime": {
     "end_time": "2025-02-02T12:20:11.578967Z",
     "start_time": "2025-02-02T12:20:11.547740Z"
    }
   },
   "cell_type": "code",
   "source": "print(a[-2:,2:])",
   "id": "ad59f2558e48a659",
   "outputs": [
    {
     "name": "stdout",
     "output_type": "stream",
     "text": [
      "[[18 19]\n",
      " [22 23]]\n"
     ]
    }
   ],
   "execution_count": 23
  },
  {
   "metadata": {},
   "cell_type": "markdown",
   "source": "###  Fancy Indexing",
   "id": "8f571e7965712bca"
  },
  {
   "metadata": {
    "ExecuteTime": {
     "end_time": "2025-02-02T12:22:05.660349Z",
     "start_time": "2025-02-02T12:22:05.644726Z"
    }
   },
   "cell_type": "code",
   "source": "print(a)",
   "id": "f5f32e8c2be47913",
   "outputs": [
    {
     "name": "stdout",
     "output_type": "stream",
     "text": [
      "[[ 0  1  2  3]\n",
      " [ 4  5  6  7]\n",
      " [ 8  9 10 11]\n",
      " [12 13 14 15]\n",
      " [16 17 18 19]\n",
      " [20 21 22 23]]\n"
     ]
    }
   ],
   "execution_count": 25
  },
  {
   "metadata": {
    "ExecuteTime": {
     "end_time": "2025-02-02T12:22:32.235561Z",
     "start_time": "2025-02-02T12:22:32.204308Z"
    }
   },
   "cell_type": "code",
   "source": "print(a[[0,4,5]])",
   "id": "ab67ea0e9819584e",
   "outputs": [
    {
     "name": "stdout",
     "output_type": "stream",
     "text": [
      "[[ 0  1  2  3]\n",
      " [16 17 18 19]\n",
      " [20 21 22 23]]\n"
     ]
    }
   ],
   "execution_count": 26
  },
  {
   "metadata": {
    "ExecuteTime": {
     "end_time": "2025-02-02T12:23:35.765294Z",
     "start_time": "2025-02-02T12:23:35.730738Z"
    }
   },
   "cell_type": "code",
   "source": "print(a[[0,2,4],[0,2,3]])",
   "id": "c59edd3074f286b4",
   "outputs": [
    {
     "name": "stdout",
     "output_type": "stream",
     "text": [
      "[ 0 10 19]\n"
     ]
    }
   ],
   "execution_count": 29
  },
  {
   "metadata": {},
   "cell_type": "markdown",
   "source": "### Boolean Indexing",
   "id": "1ec97574c2b7b3a8"
  },
  {
   "metadata": {
    "ExecuteTime": {
     "end_time": "2025-02-02T12:26:27.173285Z",
     "start_time": "2025-02-02T12:26:27.142030Z"
    }
   },
   "cell_type": "code",
   "source": [
    "a = np.random.randint(1,100,24).reshape(6,4)\n",
    "print(a)"
   ],
   "id": "bb4151024abeb9ae",
   "outputs": [
    {
     "name": "stdout",
     "output_type": "stream",
     "text": [
      "[[13 65 34 18]\n",
      " [95 70 84 49]\n",
      " [17 33  9  8]\n",
      " [29 66  6 21]\n",
      " [93 10 24 78]\n",
      " [58 33 17 59]]\n"
     ]
    }
   ],
   "execution_count": 35
  },
  {
   "metadata": {
    "ExecuteTime": {
     "end_time": "2025-02-02T12:26:38.437294Z",
     "start_time": "2025-02-02T12:26:38.406048Z"
    }
   },
   "cell_type": "code",
   "source": "print(a)",
   "id": "ca03aa9c65aec74e",
   "outputs": [
    {
     "name": "stdout",
     "output_type": "stream",
     "text": [
      "[[13 65 34 18]\n",
      " [95 70 84 49]\n",
      " [17 33  9  8]\n",
      " [29 66  6 21]\n",
      " [93 10 24 78]\n",
      " [58 33 17 59]]\n"
     ]
    }
   ],
   "execution_count": 37
  },
  {
   "metadata": {
    "ExecuteTime": {
     "end_time": "2025-02-02T12:28:07.104940Z",
     "start_time": "2025-02-02T12:28:07.089316Z"
    }
   },
   "cell_type": "code",
   "source": [
    "#Even number\n",
    "print(a [ a % 2 == 0] )"
   ],
   "id": "a771b16aa11e2e4f",
   "outputs": [
    {
     "name": "stdout",
     "output_type": "stream",
     "text": [
      "[34 18 70 84  8 66  6 10 24 78 58]\n"
     ]
    }
   ],
   "execution_count": 43
  },
  {
   "metadata": {
    "ExecuteTime": {
     "end_time": "2025-02-02T12:27:17.855546Z",
     "start_time": "2025-02-02T12:27:17.839935Z"
    }
   },
   "cell_type": "code",
   "source": [
    "# find out all number greater then 50\n",
    "print(a[a>50])"
   ],
   "id": "d20d33a2d5eece7f",
   "outputs": [
    {
     "name": "stdout",
     "output_type": "stream",
     "text": [
      "[65 95 70 84 66 93 78 58 59]\n"
     ]
    }
   ],
   "execution_count": 41
  },
  {
   "metadata": {
    "ExecuteTime": {
     "end_time": "2025-02-02T12:29:54.873313Z",
     "start_time": "2025-02-02T12:29:54.857654Z"
    }
   },
   "cell_type": "code",
   "source": [
    "# find out all number greater then 50 and are even\n",
    "print(a[(a>50)& (a%2 ==0)])"
   ],
   "id": "3d407fe90b333692",
   "outputs": [
    {
     "name": "stdout",
     "output_type": "stream",
     "text": [
      "[70 84 66 78 58]\n"
     ]
    }
   ],
   "execution_count": 44
  },
  {
   "metadata": {
    "ExecuteTime": {
     "end_time": "2025-02-02T12:31:27.656997Z",
     "start_time": "2025-02-02T12:31:27.641364Z"
    }
   },
   "cell_type": "code",
   "source": [
    "# find all numbers not divisible by 7\n",
    "print(a[~(a%7==0)])"
   ],
   "id": "a3b6666b5bf4e152",
   "outputs": [
    {
     "name": "stdout",
     "output_type": "stream",
     "text": [
      "[13 65 34 18 95 17 33  9  8 29 66  6 93 10 24 78 58 33 17 59]\n"
     ]
    }
   ],
   "execution_count": 51
  },
  {
   "metadata": {},
   "cell_type": "markdown",
   "source": "### Working with missing value",
   "id": "6ebe32ae439deee6"
  },
  {
   "metadata": {
    "ExecuteTime": {
     "end_time": "2025-02-02T12:51:37.222430Z",
     "start_time": "2025-02-02T12:51:37.191179Z"
    }
   },
   "cell_type": "code",
   "source": [
    " nan = np.array([1,2,3,np.nan,4,5,np.nan])\n",
    " print(nan)"
   ],
   "id": "17da57f9541dc1a2",
   "outputs": [
    {
     "name": "stdout",
     "output_type": "stream",
     "text": [
      "[ 1.  2.  3. nan  4.  5. nan]\n"
     ]
    }
   ],
   "execution_count": 58
  },
  {
   "metadata": {
    "ExecuteTime": {
     "end_time": "2025-02-02T12:51:40.363565Z",
     "start_time": "2025-02-02T12:51:40.331791Z"
    }
   },
   "cell_type": "code",
   "source": "nan[~np.isnan(nan)]",
   "id": "2a9fbc84a6a4913",
   "outputs": [
    {
     "data": {
      "text/plain": [
       "array([1., 2., 3., 4., 5.])"
      ]
     },
     "execution_count": 59,
     "metadata": {},
     "output_type": "execute_result"
    }
   ],
   "execution_count": 59
  }
 ],
 "metadata": {
  "kernelspec": {
   "display_name": "Python 3",
   "language": "python",
   "name": "python3"
  },
  "language_info": {
   "codemirror_mode": {
    "name": "ipython",
    "version": 2
   },
   "file_extension": ".py",
   "mimetype": "text/x-python",
   "name": "python",
   "nbconvert_exporter": "python",
   "pygments_lexer": "ipython2",
   "version": "2.7.6"
  }
 },
 "nbformat": 4,
 "nbformat_minor": 5
}
