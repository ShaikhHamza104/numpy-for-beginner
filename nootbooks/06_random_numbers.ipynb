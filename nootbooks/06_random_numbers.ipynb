{
 "cells": [
  {
   "cell_type": "code",
   "id": "initial_id",
   "metadata": {
    "collapsed": true,
    "ExecuteTime": {
     "end_time": "2025-02-03T15:48:42.052730Z",
     "start_time": "2025-02-03T15:48:41.881983Z"
    }
   },
   "source": [
    "from random import randint\n",
    "import numpy as np"
   ],
   "outputs": [],
   "execution_count": 1
  },
  {
   "metadata": {},
   "cell_type": "markdown",
   "source": [
    "### np.random.randint\n",
    "Generates random integers from a specified range"
   ],
   "id": "6e1a6e231f4d67b6"
  },
  {
   "metadata": {
    "ExecuteTime": {
     "end_time": "2025-02-03T15:56:15.686719Z",
     "start_time": "2025-02-03T15:56:15.675033Z"
    }
   },
   "cell_type": "code",
   "source": [
    "a = np.random.randint(1,10,5) # 5 random integers between 1 (inclusive) and 10 (exclusive)\n",
    "print(a)"
   ],
   "id": "17e111464ec56da9",
   "outputs": [
    {
     "name": "stdout",
     "output_type": "stream",
     "text": [
      "[6 5 9 8 3]\n"
     ]
    }
   ],
   "execution_count": 12
  },
  {
   "metadata": {},
   "cell_type": "markdown",
   "source": [
    "### np.random.shuffle\n",
    "Shuffles the elements of an array in place (modifies the original array)"
   ],
   "id": "9352cbe74a664c5d"
  },
  {
   "metadata": {
    "ExecuteTime": {
     "end_time": "2025-02-03T15:53:07.583868Z",
     "start_time": "2025-02-03T15:53:07.559206Z"
    }
   },
   "cell_type": "code",
   "source": [
    "np.random.shuffle(a) # Output: e.g., [3 1 5 2 4] (random order)\n",
    "print(a)"
   ],
   "id": "a93425b1c19a8873",
   "outputs": [
    {
     "name": "stdout",
     "output_type": "stream",
     "text": [
      "[5 3 5 6 4 2]\n"
     ]
    }
   ],
   "execution_count": 10
  },
  {
   "metadata": {},
   "cell_type": "markdown",
   "source": [
    "### np.random.rand\n",
    "Generates an array of random floats between 0 and 1 from a uniform distribution."
   ],
   "id": "458962531a6faa14"
  },
  {
   "metadata": {
    "ExecuteTime": {
     "end_time": "2025-02-03T15:55:28.836161Z",
     "start_time": "2025-02-03T15:55:28.819335Z"
    }
   },
   "cell_type": "code",
   "source": [
    "random_array = np.random.rand(3)  # 3 random floats between 0 and 1\n",
    "print(random_array)  # Output: e.g., [0.123 0.456 0.789]"
   ],
   "id": "2fa0e2110f0373ad",
   "outputs": [
    {
     "name": "stdout",
     "output_type": "stream",
     "text": [
      "[0.77950609 0.73885064 0.71099007]\n"
     ]
    }
   ],
   "execution_count": 11
  },
  {
   "metadata": {},
   "cell_type": "markdown",
   "source": [
    "### numpy.random.choice\n",
    " Generates a random sample from a given array or range."
   ],
   "id": "5080a779d1947766"
  },
  {
   "metadata": {
    "ExecuteTime": {
     "end_time": "2025-02-03T15:59:05.800693Z",
     "start_time": "2025-02-03T15:59:05.783218Z"
    }
   },
   "cell_type": "code",
   "source": [
    "choices = np.random.choice([1, 2, 3, 4, 5], size=3)  # Picks 3 random elements from the list\n",
    "print(choices)  # Output: e.g., [2 5 1]"
   ],
   "id": "875dc00145b806d8",
   "outputs": [
    {
     "name": "stdout",
     "output_type": "stream",
     "text": [
      "[5 5 4]\n"
     ]
    }
   ],
   "execution_count": 13
  }
 ],
 "metadata": {
  "kernelspec": {
   "display_name": "Python 3",
   "language": "python",
   "name": "python3"
  },
  "language_info": {
   "codemirror_mode": {
    "name": "ipython",
    "version": 2
   },
   "file_extension": ".py",
   "mimetype": "text/x-python",
   "name": "python",
   "nbconvert_exporter": "python",
   "pygments_lexer": "ipython2",
   "version": "2.7.6"
  }
 },
 "nbformat": 4,
 "nbformat_minor": 5
}
