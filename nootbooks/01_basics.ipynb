{
 "cells": [
  {
   "cell_type": "markdown",
   "id": "d7dc83c5db2db12e",
   "metadata": {},
   "source": [
    "### what is numpy in python\n",
    "NumPy is a library for the Python programming language, adding support for large,\n",
    "multi-dimensional arrays and matrices, along with a wide range of high-level mathematical functions to operate\n",
    "on these arrays.\n",
    "\n",
    "**Key Features:**\n",
    "\n",
    "1. **N-Dimensional Arrays**: NumPy allows you to create arrays with any number of dimensions (up to 32). This\n",
    "makes it easy to represent complex data structures.\n",
    "2. **Matrix Operations**: NumPy provides an extensive set of functions for matrix operations, such as matrix\n",
    "multiplication, determinant calculation, and solving linear systems.\n",
    "3. **Vectorized Operations**: NumPy allows you to perform element-wise operations on entire arrays at once,\n",
    "making it much faster than using Python's built-in lists and loops.\n",
    "4. **Integration with Other Libraries**: NumPy is designed to work seamlessly with other popular Python\n",
    "libraries for scientific computing, such as SciPy, Pandas, and Matplotlib.\n",
    "\n",
    "**Why Use NumPy?**\n",
    "\n",
    "1. **Efficient Data Manipulation**: NumPy arrays are much faster than Python lists when working with large\n",
    "datasets.\n",
    "2. **Convenient Matrix Operations**: NumPy's matrix operations simplify complex mathematical calculations.\n",
    "3. **Interoperability with Other Libraries**: NumPy integrates well with other popular scientific computing\n",
    "libraries, making it a fundamental tool for many data scientists and researchers.\n",
    "\n",
    "In summary, NumPy is a powerful library that enables efficient manipulation of large numerical arrays and\n",
    "matrices in Python, making it an essential tool for scientific computing, data analysis, and machine learning."
   ]
  },
  {
   "cell_type": "code",
   "id": "676b6abb207d6c91",
   "metadata": {
    "ExecuteTime": {
     "end_time": "2025-02-02T08:50:00.272027Z",
     "start_time": "2025-02-02T08:50:00.256395Z"
    }
   },
   "source": [
    "import  numpy as np"
   ],
   "outputs": [],
   "execution_count": 51
  },
  {
   "cell_type": "markdown",
   "id": "7b8e740647077d46",
   "metadata": {},
   "source": [
    "### what is 1 D array?\n",
    "In NumPy, a **1D array** (also known as a **vector**) is a type of array that has only one dimension or axis.\n",
    "In other words, it's an array with only one row and one column.\n",
    "\n",
    "In Python, you can create a 1D array using the `numpy.array()` function, like this:"
   ]
  },
  {
   "cell_type": "code",
   "id": "589ef67f5714770b",
   "metadata": {
    "ExecuteTime": {
     "end_time": "2025-02-02T08:50:00.318897Z",
     "start_time": "2025-02-02T08:50:00.303280Z"
    }
   },
   "source": [
    "# Create a 1D array (vector) with 5 elements\n",
    "vector = np.array([1,2,3,4,5])\n",
    "print(vector)"
   ],
   "outputs": [
    {
     "name": "stdout",
     "output_type": "stream",
     "text": [
      "[1 2 3 4 5]\n"
     ]
    }
   ],
   "execution_count": 52
  },
  {
   "cell_type": "markdown",
   "id": "e8b3e8a71f589e7b",
   "metadata": {},
   "source": [
    "### what is 2 D Array?\n",
    "In NumPy, a **2D array** (also known as a **matrix**) is a type of array that has two dimensions or axes: rows\n",
    "and columns.\n",
    "\n",
    "In Python, you can create a 2D array using the `numpy.array()` function, like this:"
   ]
  },
  {
   "cell_type": "code",
   "id": "7b0374f7495a615b",
   "metadata": {
    "ExecuteTime": {
     "end_time": "2025-02-02T08:50:00.381396Z",
     "start_time": "2025-02-02T08:50:00.350158Z"
    }
   },
   "source": [
    "# Create a 2D array (matrix) with 3 rows and 4 columns\n",
    "matrix = np.array([[1, 2, 3, 4], [5, 6, 7, 8], [9, 10, 11, 12]])\n",
    "matrix"
   ],
   "outputs": [
    {
     "data": {
      "text/plain": [
       "array([[ 1,  2,  3,  4],\n",
       "       [ 5,  6,  7,  8],\n",
       "       [ 9, 10, 11, 12]])"
      ]
     },
     "execution_count": 53,
     "metadata": {},
     "output_type": "execute_result"
    }
   ],
   "execution_count": 53
  },
  {
   "cell_type": "markdown",
   "id": "c7693dfd2ab9ce63",
   "metadata": {},
   "source": [
    "### what is 3D array?\n",
    "In NumPy, a **3D array** is simply called an **Tensors** with shape **(M, N, P)**, where **M**, **N**, and **P** are integers\n",
    "representing the number of elements in each dimension."
   ]
  },
  {
   "metadata": {
    "ExecuteTime": {
     "end_time": "2025-02-02T08:50:00.548381Z",
     "start_time": "2025-02-02T08:50:00.525678Z"
    }
   },
   "cell_type": "code",
   "source": [
    "tensor = np.array([\n",
    "    [[1, 2], [3, 4]],\n",
    "    [[5, 6], [7, 8]],\n",
    "    [[9, 10], [11, 12]]\n",
    "])\n",
    "tensor"
   ],
   "id": "6b635ac09cebf287",
   "outputs": [
    {
     "data": {
      "text/plain": [
       "array([[[ 1,  2],\n",
       "        [ 3,  4]],\n",
       "\n",
       "       [[ 5,  6],\n",
       "        [ 7,  8]],\n",
       "\n",
       "       [[ 9, 10],\n",
       "        [11, 12]]])"
      ]
     },
     "execution_count": 54,
     "metadata": {},
     "output_type": "execute_result"
    }
   ],
   "execution_count": 54
  },
  {
   "metadata": {},
   "cell_type": "markdown",
   "source": "### Access vector element",
   "id": "53ed5068ceb447d4"
  },
  {
   "metadata": {
    "ExecuteTime": {
     "end_time": "2025-02-02T08:50:00.735027Z",
     "start_time": "2025-02-02T08:50:00.703777Z"
    }
   },
   "cell_type": "code",
   "source": "vector",
   "id": "adec45684c1b7e4f",
   "outputs": [
    {
     "data": {
      "text/plain": [
       "array([1, 2, 3, 4, 5])"
      ]
     },
     "execution_count": 55,
     "metadata": {},
     "output_type": "execute_result"
    }
   ],
   "execution_count": 55
  },
  {
   "metadata": {
    "ExecuteTime": {
     "end_time": "2025-02-02T08:50:00.875652Z",
     "start_time": "2025-02-02T08:50:00.860037Z"
    }
   },
   "cell_type": "code",
   "source": [
    "# access single element\n",
    "print(vector[0]) # 1\n",
    "print(vector[-1]) # 5"
   ],
   "id": "9452809bf1bbe916",
   "outputs": [
    {
     "name": "stdout",
     "output_type": "stream",
     "text": [
      "1\n",
      "5\n"
     ]
    }
   ],
   "execution_count": 56
  },
  {
   "metadata": {
    "ExecuteTime": {
     "end_time": "2025-02-02T08:50:00.977688Z",
     "start_time": "2025-02-02T08:50:00.949243Z"
    }
   },
   "cell_type": "code",
   "source": [
    "# access multiple elements\n",
    "print(vector[:]) # Output: [1 2 3 4 5]\n",
    "print(vector[1:]) # Output: [2 3 4 5]\n",
    "print(vector[2:-1]) # Output: [3 4]"
   ],
   "id": "1928f360a4cd7db",
   "outputs": [
    {
     "name": "stdout",
     "output_type": "stream",
     "text": [
      "[1 2 3 4 5]\n",
      "[2 3 4 5]\n",
      "[3 4]\n"
     ]
    }
   ],
   "execution_count": 57
  },
  {
   "metadata": {},
   "cell_type": "markdown",
   "source": "### Access Matrix element",
   "id": "97bac82b645ee09c"
  },
  {
   "metadata": {
    "ExecuteTime": {
     "end_time": "2025-02-02T08:50:01.109103Z",
     "start_time": "2025-02-02T08:50:01.093499Z"
    }
   },
   "cell_type": "code",
   "source": "matrix",
   "id": "8dafacfbd961549d",
   "outputs": [
    {
     "data": {
      "text/plain": [
       "array([[ 1,  2,  3,  4],\n",
       "       [ 5,  6,  7,  8],\n",
       "       [ 9, 10, 11, 12]])"
      ]
     },
     "execution_count": 58,
     "metadata": {},
     "output_type": "execute_result"
    }
   ],
   "execution_count": 58
  },
  {
   "metadata": {
    "ExecuteTime": {
     "end_time": "2025-02-02T08:50:01.391658Z",
     "start_time": "2025-02-02T08:50:01.368588Z"
    }
   },
   "cell_type": "code",
   "source": [
    "# access single element\n",
    "print(matrix[2,0])\n",
    "print(matrix[-1,-1])\n",
    "print(matrix[-2,-2])"
   ],
   "id": "f2c76ca9b69e586d",
   "outputs": [
    {
     "name": "stdout",
     "output_type": "stream",
     "text": [
      "9\n",
      "12\n",
      "7\n"
     ]
    }
   ],
   "execution_count": 59
  },
  {
   "metadata": {
    "ExecuteTime": {
     "end_time": "2025-02-02T08:50:01.669042Z",
     "start_time": "2025-02-02T08:50:01.626033Z"
    }
   },
   "cell_type": "code",
   "source": [
    "# access multiple element\n",
    "print(matrix[0:-1])\n",
    "print(matrix[1:-1])\n",
    "print(matrix[:,2])\n",
    "print(matrix[:,-1])"
   ],
   "id": "ef8449e928d8a6c9",
   "outputs": [
    {
     "name": "stdout",
     "output_type": "stream",
     "text": [
      "[[1 2 3 4]\n",
      " [5 6 7 8]]\n",
      "[[5 6 7 8]]\n",
      "[ 3  7 11]\n",
      "[ 4  8 12]\n"
     ]
    }
   ],
   "execution_count": 60
  },
  {
   "metadata": {},
   "cell_type": "markdown",
   "source": "### Access tensor element",
   "id": "ff1b891fb8e199a6"
  },
  {
   "metadata": {
    "ExecuteTime": {
     "end_time": "2025-02-02T08:50:02.068016Z",
     "start_time": "2025-02-02T08:50:02.036763Z"
    }
   },
   "cell_type": "code",
   "source": "tensor",
   "id": "6afd97ef6c6681df",
   "outputs": [
    {
     "data": {
      "text/plain": [
       "array([[[ 1,  2],\n",
       "        [ 3,  4]],\n",
       "\n",
       "       [[ 5,  6],\n",
       "        [ 7,  8]],\n",
       "\n",
       "       [[ 9, 10],\n",
       "        [11, 12]]])"
      ]
     },
     "execution_count": 61,
     "metadata": {},
     "output_type": "execute_result"
    }
   ],
   "execution_count": 61
  },
  {
   "metadata": {
    "ExecuteTime": {
     "end_time": "2025-02-02T08:50:02.320528Z",
     "start_time": "2025-02-02T08:50:02.291332Z"
    }
   },
   "cell_type": "code",
   "source": [
    "# access single element\n",
    "print(tensor[1,0,1])\n",
    "print(tensor[2,0,1])\n",
    "print(tensor[2,1,1])"
   ],
   "id": "5721ba1dbad1d087",
   "outputs": [
    {
     "name": "stdout",
     "output_type": "stream",
     "text": [
      "6\n",
      "10\n",
      "12\n"
     ]
    }
   ],
   "execution_count": 62
  },
  {
   "metadata": {
    "ExecuteTime": {
     "end_time": "2025-02-02T08:50:02.481949Z",
     "start_time": "2025-02-02T08:50:02.456767Z"
    }
   },
   "cell_type": "code",
   "source": [
    "# access multiple element\n",
    "print(tensor[-1:,:])\n",
    "print(tensor[0:,:])\n",
    "print(tensor[::2,0,::2])\n",
    "print(tensor[2,1:,1:])\n",
    "print(tensor[0,1,:])"
   ],
   "id": "5629bce0c69a3d47",
   "outputs": [
    {
     "name": "stdout",
     "output_type": "stream",
     "text": [
      "[[[ 9 10]\n",
      "  [11 12]]]\n",
      "[[[ 1  2]\n",
      "  [ 3  4]]\n",
      "\n",
      " [[ 5  6]\n",
      "  [ 7  8]]\n",
      "\n",
      " [[ 9 10]\n",
      "  [11 12]]]\n",
      "[[1]\n",
      " [9]]\n",
      "[[12]]\n",
      "[3 4]\n"
     ]
    }
   ],
   "execution_count": 63
  },
  {
   "metadata": {},
   "cell_type": "markdown",
   "source": [
    "### Attributes of a NumPy array:\n",
    "\n",
    "1. **shape**: The shape of the array, which is a tuple representing the dimensions.\n",
    "\n",
    "Example: `array.shape` -> `(3, 4)` for a 2D array with 3 rows and 4 columns.\n",
    "\n",
    "2. **size**: The total number of elements in the array.\n",
    "\n",
    "Example: `array.size` -> `12` for an array with 3x4 shape.\n",
    "\n",
    "3. **ndim**: The number of dimensions in the array (e.g., 1 for a vector, 2 for a matrix).\n",
    "\n",
    "Example: `array.ndim` -> `2`.\n",
    "\n",
    "4. **dtype**: The data type of each element in the array.\n",
    "\n",
    "Example: `array.dtype` -> `<f8` for an array of floating-point numbers.\n",
    "\n",
    "5. **itemsize**: The size of each element in bytes.\n",
    "\n",
    "Example: `array.itemsize` -> `8` for a float64 array (i.e., 8-byte floats).\n",
    "\n",
    "6. **nbytes**: The total number of bytes occupied by the array.\n",
    "\n",
    "Example: `array.nbytes` -> `96` for an array with shape `(3, 4)` and dtype `<f8`.\n",
    "\n"
   ],
   "id": "a104e55b90c5f0ba"
  },
  {
   "metadata": {
    "ExecuteTime": {
     "end_time": "2025-02-02T08:50:02.578483Z",
     "start_time": "2025-02-02T08:50:02.562511Z"
    }
   },
   "cell_type": "code",
   "source": "arr = np.array([1,2,3,4,5])",
   "id": "d217d1aa05c3dee2",
   "outputs": [],
   "execution_count": 64
  },
  {
   "metadata": {
    "ExecuteTime": {
     "end_time": "2025-02-02T08:50:02.705778Z",
     "start_time": "2025-02-02T08:50:02.674299Z"
    }
   },
   "cell_type": "code",
   "source": "arr.shape",
   "id": "94b8994b50761970",
   "outputs": [
    {
     "data": {
      "text/plain": [
       "(5,)"
      ]
     },
     "execution_count": 65,
     "metadata": {},
     "output_type": "execute_result"
    }
   ],
   "execution_count": 65
  },
  {
   "metadata": {
    "ExecuteTime": {
     "end_time": "2025-02-02T08:50:02.847531Z",
     "start_time": "2025-02-02T08:50:02.821832Z"
    }
   },
   "cell_type": "code",
   "source": "matrix.shape",
   "id": "fecb44e7df2ab869",
   "outputs": [
    {
     "data": {
      "text/plain": [
       "(3, 4)"
      ]
     },
     "execution_count": 66,
     "metadata": {},
     "output_type": "execute_result"
    }
   ],
   "execution_count": 66
  },
  {
   "metadata": {
    "ExecuteTime": {
     "end_time": "2025-02-02T08:50:02.973172Z",
     "start_time": "2025-02-02T08:50:02.951839Z"
    }
   },
   "cell_type": "code",
   "source": "tensor.shape",
   "id": "2ed4e111532797c3",
   "outputs": [
    {
     "data": {
      "text/plain": [
       "(3, 2, 2)"
      ]
     },
     "execution_count": 67,
     "metadata": {},
     "output_type": "execute_result"
    }
   ],
   "execution_count": 67
  },
  {
   "metadata": {
    "ExecuteTime": {
     "end_time": "2025-02-02T08:50:03.067514Z",
     "start_time": "2025-02-02T08:50:03.046779Z"
    }
   },
   "cell_type": "code",
   "source": "print(arr.size)",
   "id": "c50dee638e2c65c6",
   "outputs": [
    {
     "name": "stdout",
     "output_type": "stream",
     "text": [
      "5\n"
     ]
    }
   ],
   "execution_count": 68
  },
  {
   "metadata": {
    "ExecuteTime": {
     "end_time": "2025-02-02T08:50:03.162677Z",
     "start_time": "2025-02-02T08:50:03.151460Z"
    }
   },
   "cell_type": "code",
   "source": "print(matrix.size)",
   "id": "5be6e8397b3726f9",
   "outputs": [
    {
     "name": "stdout",
     "output_type": "stream",
     "text": [
      "12\n"
     ]
    }
   ],
   "execution_count": 69
  },
  {
   "metadata": {
    "ExecuteTime": {
     "end_time": "2025-02-02T08:50:03.246777Z",
     "start_time": "2025-02-02T08:50:03.226499Z"
    }
   },
   "cell_type": "code",
   "source": "print(tensor.size)",
   "id": "af05ecf8aaa314ba",
   "outputs": [
    {
     "name": "stdout",
     "output_type": "stream",
     "text": [
      "12\n"
     ]
    }
   ],
   "execution_count": 70
  },
  {
   "metadata": {
    "ExecuteTime": {
     "end_time": "2025-02-02T08:50:03.325852Z",
     "start_time": "2025-02-02T08:50:03.301924Z"
    }
   },
   "cell_type": "code",
   "source": "arr.ndim",
   "id": "746b9b84ed3a6bd",
   "outputs": [
    {
     "data": {
      "text/plain": [
       "1"
      ]
     },
     "execution_count": 71,
     "metadata": {},
     "output_type": "execute_result"
    }
   ],
   "execution_count": 71
  },
  {
   "metadata": {
    "ExecuteTime": {
     "end_time": "2025-02-02T08:50:03.420313Z",
     "start_time": "2025-02-02T08:50:03.404515Z"
    }
   },
   "cell_type": "code",
   "source": "matrix.ndim",
   "id": "96ea31f21e41312e",
   "outputs": [
    {
     "data": {
      "text/plain": [
       "2"
      ]
     },
     "execution_count": 72,
     "metadata": {},
     "output_type": "execute_result"
    }
   ],
   "execution_count": 72
  },
  {
   "metadata": {
    "ExecuteTime": {
     "end_time": "2025-02-02T08:50:03.530978Z",
     "start_time": "2025-02-02T08:50:03.515346Z"
    }
   },
   "cell_type": "code",
   "source": "tensor.ndim",
   "id": "fa4ad7de732a912c",
   "outputs": [
    {
     "data": {
      "text/plain": [
       "3"
      ]
     },
     "execution_count": 73,
     "metadata": {},
     "output_type": "execute_result"
    }
   ],
   "execution_count": 73
  },
  {
   "metadata": {
    "ExecuteTime": {
     "end_time": "2025-02-02T08:50:03.655978Z",
     "start_time": "2025-02-02T08:50:03.640349Z"
    }
   },
   "cell_type": "code",
   "source": "arr.itemsize",
   "id": "52ea189360523ab9",
   "outputs": [
    {
     "data": {
      "text/plain": [
       "8"
      ]
     },
     "execution_count": 74,
     "metadata": {},
     "output_type": "execute_result"
    }
   ],
   "execution_count": 74
  },
  {
   "metadata": {
    "ExecuteTime": {
     "end_time": "2025-02-02T08:50:03.787056Z",
     "start_time": "2025-02-02T08:50:03.755809Z"
    }
   },
   "cell_type": "code",
   "source": "matrix.itemsize",
   "id": "ca08f677165e9587",
   "outputs": [
    {
     "data": {
      "text/plain": [
       "8"
      ]
     },
     "execution_count": 75,
     "metadata": {},
     "output_type": "execute_result"
    }
   ],
   "execution_count": 75
  },
  {
   "metadata": {
    "ExecuteTime": {
     "end_time": "2025-02-02T08:50:03.865188Z",
     "start_time": "2025-02-02T08:50:03.849563Z"
    }
   },
   "cell_type": "code",
   "source": "tensor.itemsize",
   "id": "1f811a676d73bdfb",
   "outputs": [
    {
     "data": {
      "text/plain": [
       "8"
      ]
     },
     "execution_count": 76,
     "metadata": {},
     "output_type": "execute_result"
    }
   ],
   "execution_count": 76
  },
  {
   "metadata": {
    "ExecuteTime": {
     "end_time": "2025-02-02T08:50:03.990189Z",
     "start_time": "2025-02-02T08:50:03.958931Z"
    }
   },
   "cell_type": "code",
   "source": "arr.nbytes",
   "id": "54a9ddab34dfa144",
   "outputs": [
    {
     "data": {
      "text/plain": [
       "40"
      ]
     },
     "execution_count": 77,
     "metadata": {},
     "output_type": "execute_result"
    }
   ],
   "execution_count": 77
  },
  {
   "metadata": {
    "ExecuteTime": {
     "end_time": "2025-02-02T08:50:04.107145Z",
     "start_time": "2025-02-02T08:50:04.091520Z"
    }
   },
   "cell_type": "code",
   "source": "vector.nbytes",
   "id": "4f8864cc38380206",
   "outputs": [
    {
     "data": {
      "text/plain": [
       "40"
      ]
     },
     "execution_count": 78,
     "metadata": {},
     "output_type": "execute_result"
    }
   ],
   "execution_count": 78
  },
  {
   "metadata": {
    "ExecuteTime": {
     "end_time": "2025-02-02T08:50:04.216517Z",
     "start_time": "2025-02-02T08:50:04.200895Z"
    }
   },
   "cell_type": "code",
   "source": "tensor.nbytes",
   "id": "b6c7303eb6aef0dc",
   "outputs": [
    {
     "data": {
      "text/plain": [
       "96"
      ]
     },
     "execution_count": 79,
     "metadata": {},
     "output_type": "execute_result"
    }
   ],
   "execution_count": 79
  },
  {
   "metadata": {},
   "cell_type": "markdown",
   "source": [
    "### How many way to create an array in numpy?\n",
    "There are several ways to create an array in NumPy. Here are some of the most common methods:\n",
    "\n",
    "1. **numpy.array()**: This is the most basic way to create a NumPy array from a Python list or other iterable.\n",
    "\n",
    "2. **numpy.zeros()**: Create an array filled with zeros.\n",
    "\n",
    "3. **numpy.ones()**: Create an array filled with ones.\n",
    "\n",
    "4. **numpy.full()**: Create an array filled with a specified value.\n",
    "\n",
    "5. **numpy.arange()**: Create an array with evenly spaced values.\n",
    "\n",
    "6. **numpy.linspace()**: Create an array with evenly spaced values over a specified range.\n",
    "\n",
    "7. **numpy.identity()**: The identity array is a square array with ones on the main diagonal.\n"
   ],
   "id": "70149703b1299597"
  },
  {
   "metadata": {
    "ExecuteTime": {
     "end_time": "2025-02-02T08:50:04.327098Z",
     "start_time": "2025-02-02T08:50:04.314112Z"
    }
   },
   "cell_type": "code",
   "source": [
    "# Create array using list\n",
    "my_list = [1,2,3,4,5,6]\n",
    "arr = np.array(my_list)\n",
    "print(arr)\n",
    "\n",
    "# Create array using tuple\n",
    "my_tuple = (1,2,3,4,5,6)\n",
    "arr = np.array(my_tuple)\n",
    "print(arr)"
   ],
   "id": "5e9a12fdf8f31519",
   "outputs": [
    {
     "name": "stdout",
     "output_type": "stream",
     "text": [
      "[1 2 3 4 5 6]\n",
      "[1 2 3 4 5 6]\n"
     ]
    }
   ],
   "execution_count": 80
  },
  {
   "metadata": {
    "ExecuteTime": {
     "end_time": "2025-02-02T08:50:04.537639Z",
     "start_time": "2025-02-02T08:50:04.522018Z"
    }
   },
   "cell_type": "code",
   "source": [
    "zeros = np.zeros(5)\n",
    "zeros"
   ],
   "id": "b9e574f8d5cab90b",
   "outputs": [
    {
     "data": {
      "text/plain": [
       "array([0., 0., 0., 0., 0.])"
      ]
     },
     "execution_count": 81,
     "metadata": {},
     "output_type": "execute_result"
    }
   ],
   "execution_count": 81
  },
  {
   "metadata": {
    "ExecuteTime": {
     "end_time": "2025-02-02T08:50:04.766982Z",
     "start_time": "2025-02-02T08:50:04.735728Z"
    }
   },
   "cell_type": "code",
   "source": [
    "ones = np.ones(5)\n",
    "ones"
   ],
   "id": "d86ae2ed0efab641",
   "outputs": [
    {
     "data": {
      "text/plain": [
       "array([1., 1., 1., 1., 1.])"
      ]
     },
     "execution_count": 82,
     "metadata": {},
     "output_type": "execute_result"
    }
   ],
   "execution_count": 82
  },
  {
   "metadata": {
    "ExecuteTime": {
     "end_time": "2025-02-02T08:50:04.967432Z",
     "start_time": "2025-02-02T08:50:04.951810Z"
    }
   },
   "cell_type": "code",
   "source": [
    "full = np.full((5,5), True)\n",
    "full"
   ],
   "id": "52801a69575d6160",
   "outputs": [
    {
     "data": {
      "text/plain": [
       "array([[ True,  True,  True,  True,  True],\n",
       "       [ True,  True,  True,  True,  True],\n",
       "       [ True,  True,  True,  True,  True],\n",
       "       [ True,  True,  True,  True,  True],\n",
       "       [ True,  True,  True,  True,  True]])"
      ]
     },
     "execution_count": 83,
     "metadata": {},
     "output_type": "execute_result"
    }
   ],
   "execution_count": 83
  },
  {
   "metadata": {
    "ExecuteTime": {
     "end_time": "2025-02-02T08:50:05.354638Z",
     "start_time": "2025-02-02T08:50:05.339589Z"
    }
   },
   "cell_type": "code",
   "source": [
    "arange = np.arange(0,5,2)\n",
    "arange"
   ],
   "id": "4685a895b38e0e1c",
   "outputs": [
    {
     "data": {
      "text/plain": [
       "array([0, 2, 4])"
      ]
     },
     "execution_count": 84,
     "metadata": {},
     "output_type": "execute_result"
    }
   ],
   "execution_count": 84
  },
  {
   "metadata": {
    "ExecuteTime": {
     "end_time": "2025-02-02T08:50:05.527397Z",
     "start_time": "2025-02-02T08:50:05.506644Z"
    }
   },
   "cell_type": "code",
   "source": [
    "license = np.linspace(0,5,5)\n",
    "license"
   ],
   "id": "4218fa2ade041814",
   "outputs": [
    {
     "data": {
      "text/plain": [
       "array([0.  , 1.25, 2.5 , 3.75, 5.  ])"
      ]
     },
     "execution_count": 85,
     "metadata": {},
     "output_type": "execute_result"
    }
   ],
   "execution_count": 85
  },
  {
   "metadata": {
    "ExecuteTime": {
     "end_time": "2025-02-02T08:50:05.659579Z",
     "start_time": "2025-02-02T08:50:05.643581Z"
    }
   },
   "cell_type": "code",
   "source": [
    "identity = np.identity(3)\n",
    "identity"
   ],
   "id": "7ca188876b376d02",
   "outputs": [
    {
     "data": {
      "text/plain": [
       "array([[1., 0., 0.],\n",
       "       [0., 1., 0.],\n",
       "       [0., 0., 1.]])"
      ]
     },
     "execution_count": 86,
     "metadata": {},
     "output_type": "execute_result"
    }
   ],
   "execution_count": 86
  },
  {
   "metadata": {},
   "cell_type": "markdown",
   "source": [
    "### change data type using astype attribute\n",
    "**numpy.astype()** : change the data type\n"
   ],
   "id": "1324dfaad5cea04d"
  },
  {
   "metadata": {
    "ExecuteTime": {
     "end_time": "2025-02-02T08:50:06.056248Z",
     "start_time": "2025-02-02T08:50:06.025009Z"
    }
   },
   "cell_type": "code",
   "source": [
    "array = np.array([1,2,3,4,5])\n",
    "array = array.astype(np.int8)\n",
    "array.dtype"
   ],
   "id": "6e2dc8fe74ee9c60",
   "outputs": [
    {
     "data": {
      "text/plain": [
       "dtype('int8')"
      ]
     },
     "execution_count": 87,
     "metadata": {},
     "output_type": "execute_result"
    }
   ],
   "execution_count": 87
  }
 ],
 "metadata": {
  "kernelspec": {
   "display_name": "Python 3 (ipykernel)",
   "language": "python",
   "name": "python3"
  },
  "language_info": {
   "codemirror_mode": {
    "name": "ipython",
    "version": 3
   },
   "file_extension": ".py",
   "mimetype": "text/x-python",
   "name": "python",
   "nbconvert_exporter": "python",
   "pygments_lexer": "ipython3",
   "version": "3.10.6"
  }
 },
 "nbformat": 4,
 "nbformat_minor": 5
}
