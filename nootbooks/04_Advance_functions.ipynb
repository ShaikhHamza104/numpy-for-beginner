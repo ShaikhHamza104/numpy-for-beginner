{
 "cells": [
  {
   "metadata": {},
   "cell_type": "markdown",
   "source": [
    "### np.sort\n",
    "Return a sorted copy of an array"
   ],
   "id": "4cc75ccddc991a0b"
  },
  {
   "metadata": {
    "ExecuteTime": {
     "end_time": "2025-02-03T14:46:24.551242Z",
     "start_time": "2025-02-03T14:46:23.184027Z"
    }
   },
   "cell_type": "code",
   "source": [
    "import  numpy as np\n",
    "a = np.random.randint(0,100,24)\n",
    "a"
   ],
   "id": "3741c60b7ea9fc76",
   "outputs": [
    {
     "data": {
      "text/plain": [
       "array([12, 50, 38, 69, 30,  2, 49, 66, 91, 30, 57, 48, 93, 17,  9, 73, 74,\n",
       "       69, 23, 19, 37, 25,  9, 84], dtype=int32)"
      ]
     },
     "execution_count": 1,
     "metadata": {},
     "output_type": "execute_result"
    }
   ],
   "execution_count": 1
  },
  {
   "metadata": {
    "ExecuteTime": {
     "end_time": "2025-02-03T14:46:24.783899Z",
     "start_time": "2025-02-03T14:46:24.747480Z"
    }
   },
   "cell_type": "code",
   "source": [
    "#Acending order\n",
    "print(np.sort(a))\n",
    "#decending order\n",
    "print(np.sort(a)[::-1])"
   ],
   "id": "efa4a7f1bdfcb515",
   "outputs": [
    {
     "name": "stdout",
     "output_type": "stream",
     "text": [
      "[ 2  9  9 12 17 19 23 25 30 30 37 38 48 49 50 57 66 69 69 73 74 84 91 93]\n",
      "[93 91 84 74 73 69 69 66 57 50 49 48 38 37 30 30 25 23 19 17 12  9  9  2]\n"
     ]
    }
   ],
   "execution_count": 2
  },
  {
   "metadata": {
    "ExecuteTime": {
     "end_time": "2025-02-03T14:46:24.916368Z",
     "start_time": "2025-02-03T14:46:24.885346Z"
    }
   },
   "cell_type": "code",
   "source": "b = np.random.randint(0,100,24).reshape(4,6)",
   "id": "670edbfad6b1202c",
   "outputs": [],
   "execution_count": 3
  },
  {
   "metadata": {
    "ExecuteTime": {
     "end_time": "2025-02-03T14:46:24.969790Z",
     "start_time": "2025-02-03T14:46:24.952370Z"
    }
   },
   "cell_type": "code",
   "source": "print(b)",
   "id": "b0f3d50e6c5baf8",
   "outputs": [
    {
     "name": "stdout",
     "output_type": "stream",
     "text": [
      "[[50 16  2 11 55 47]\n",
      " [36  8 96 86 65 35]\n",
      " [76 46 26 86 43 83]\n",
      " [87 42 99  2 20 81]]\n"
     ]
    }
   ],
   "execution_count": 4
  },
  {
   "metadata": {
    "ExecuteTime": {
     "end_time": "2025-02-03T14:46:25.103060Z",
     "start_time": "2025-02-03T14:46:25.075360Z"
    }
   },
   "cell_type": "code",
   "source": [
    "# sort based on row\n",
    "print(np.sort(b))\n",
    "# Sort based on colum\n",
    "print(np.sort(b,axis=0))"
   ],
   "id": "4af65c5d08ef650f",
   "outputs": [
    {
     "name": "stdout",
     "output_type": "stream",
     "text": [
      "[[ 2 11 16 47 50 55]\n",
      " [ 8 35 36 65 86 96]\n",
      " [26 43 46 76 83 86]\n",
      " [ 2 20 42 81 87 99]]\n",
      "[[36  8  2  2 20 35]\n",
      " [50 16 26 11 43 47]\n",
      " [76 42 96 86 55 81]\n",
      " [87 46 99 86 65 83]]\n"
     ]
    }
   ],
   "execution_count": 5
  },
  {
   "metadata": {},
   "cell_type": "markdown",
   "source": [
    "### np.append\n",
    "append value at the end of an array and create a new array"
   ],
   "id": "49fe899501c1c674"
  },
  {
   "metadata": {
    "ExecuteTime": {
     "end_time": "2025-02-03T14:46:30.004079Z",
     "start_time": "2025-02-03T14:46:29.971136Z"
    }
   },
   "cell_type": "code",
   "source": [
    "a = np.array([1,2,3,4,5])\n",
    "print(a)\n",
    "new_arr = np.append(a,10)\n",
    "print(new_arr)"
   ],
   "id": "9b85cfb15191d728",
   "outputs": [
    {
     "name": "stdout",
     "output_type": "stream",
     "text": [
      "[1 2 3 4 5]\n",
      "[ 1  2  3  4  5 10]\n"
     ]
    }
   ],
   "execution_count": 6
  },
  {
   "metadata": {},
   "cell_type": "markdown",
   "source": [
    "### np.concatenate\n",
    "The `np.concatenate` function is a powerful tool for combining multiple arrays into a single array. It's often\n",
    "used to stack or concatenate arrays along a particular axis"
   ],
   "id": "6e5919775ee49a73"
  },
  {
   "metadata": {
    "ExecuteTime": {
     "end_time": "2025-02-03T14:46:30.144823Z",
     "start_time": "2025-02-03T14:46:30.107692Z"
    }
   },
   "cell_type": "code",
   "source": [
    "c = np.arange(6).reshape(2,3)\n",
    "d = np.arange(6,12).reshape(2,3)\n",
    "print(c)\n",
    "print(d)\n",
    "print(np.concatenate((c,d)))\n",
    "print(np.concat((c,d),axis=0))"
   ],
   "id": "bce9a94135f5ea98",
   "outputs": [
    {
     "name": "stdout",
     "output_type": "stream",
     "text": [
      "[[0 1 2]\n",
      " [3 4 5]]\n",
      "[[ 6  7  8]\n",
      " [ 9 10 11]]\n",
      "[[ 0  1  2]\n",
      " [ 3  4  5]\n",
      " [ 6  7  8]\n",
      " [ 9 10 11]]\n",
      "[[ 0  1  2]\n",
      " [ 3  4  5]\n",
      " [ 6  7  8]\n",
      " [ 9 10 11]]\n"
     ]
    }
   ],
   "execution_count": 7
  },
  {
   "metadata": {},
   "cell_type": "markdown",
   "source": [
    "### np.unique\n",
    "return the unique elements from an array"
   ],
   "id": "2ad34b2c3b151c28"
  },
  {
   "metadata": {
    "ExecuteTime": {
     "end_time": "2025-02-03T14:46:30.510289Z",
     "start_time": "2025-02-03T14:46:30.461233Z"
    }
   },
   "cell_type": "code",
   "source": [
    "a = np.array([1,1,2,3,2,1,4,5,2,4])\n",
    "np.unique(a)"
   ],
   "id": "c271e74a09f7f00",
   "outputs": [
    {
     "data": {
      "text/plain": [
       "array([1, 2, 3, 4, 5])"
      ]
     },
     "execution_count": 8,
     "metadata": {},
     "output_type": "execute_result"
    }
   ],
   "execution_count": 8
  },
  {
   "metadata": {},
   "cell_type": "markdown",
   "source": [
    "### np.expand_dims\n",
    "Insert a new axis that will appear at the specified position"
   ],
   "id": "d3a5375c6ff5c50f"
  },
  {
   "metadata": {
    "ExecuteTime": {
     "end_time": "2025-02-03T14:46:30.714492Z",
     "start_time": "2025-02-03T14:46:30.680232Z"
    }
   },
   "cell_type": "code",
   "source": [
    "arr = np.array([1,2,3,4])\n",
    "expand_dim = np.expand_dims(arr,axis=0)\n",
    "print(expand_dim)\n",
    "print(expand_dim.shape)"
   ],
   "id": "9474fd369cdfda5c",
   "outputs": [
    {
     "name": "stdout",
     "output_type": "stream",
     "text": [
      "[[1 2 3 4]]\n",
      "(1, 4)\n"
     ]
    }
   ],
   "execution_count": 9
  },
  {
   "metadata": {},
   "cell_type": "markdown",
   "source": [
    "### np.where\n",
    " Return elements chosen from `x` or `y`, depending on a condition."
   ],
   "id": "f4db5d06ba5b6322"
  },
  {
   "metadata": {
    "ExecuteTime": {
     "end_time": "2025-02-03T14:46:30.824777Z",
     "start_time": "2025-02-03T14:46:30.794073Z"
    }
   },
   "cell_type": "code",
   "source": [
    "arr = np.array([1,2,3,4,5,6])\n",
    "where = np.where(arr>2,'A','B')\n",
    "print(where)"
   ],
   "id": "8d248a45e2ea0120",
   "outputs": [
    {
     "name": "stdout",
     "output_type": "stream",
     "text": [
      "['B' 'B' 'A' 'A' 'A' 'A']\n"
     ]
    }
   ],
   "execution_count": 10
  },
  {
   "metadata": {},
   "cell_type": "markdown",
   "source": [
    "### np.argmax\n",
    " Return the indices of the maximum values along an axis."
   ],
   "id": "feee23a9f372a226"
  },
  {
   "metadata": {
    "ExecuteTime": {
     "end_time": "2025-02-03T14:46:30.996469Z",
     "start_time": "2025-02-03T14:46:30.964099Z"
    }
   },
   "cell_type": "code",
   "source": [
    "arr = np.array([1,2,3,4,5,6])\n",
    "matrix = np.array([[1,2,3],[4,5,6]])\n",
    "max_index = np.argmax(arr)\n",
    "print(max_index)\n",
    "print(np.argmax(matrix))"
   ],
   "id": "5d00b5659cc9def9",
   "outputs": [
    {
     "name": "stdout",
     "output_type": "stream",
     "text": [
      "5\n",
      "5\n"
     ]
    }
   ],
   "execution_count": 11
  },
  {
   "metadata": {},
   "cell_type": "markdown",
   "source": [
    "### np.argmin\n",
    " Return the indices of the minium values along an axis."
   ],
   "id": "d0a3c7e38a747cde"
  },
  {
   "metadata": {
    "ExecuteTime": {
     "end_time": "2025-02-03T14:46:31.137569Z",
     "start_time": "2025-02-03T14:46:31.111536Z"
    }
   },
   "cell_type": "code",
   "source": [
    "arr = np.array([1,2,3,4,5,6])\n",
    "matrix = np.array([[1,2,3,0],[4,5,6,-1]])\n",
    "min_index = np.argmin(arr)\n",
    "print(min_index)\n",
    "min_index = np.argmin(matrix)\n",
    "print(min_index)"
   ],
   "id": "6187e61f08cf0bd0",
   "outputs": [
    {
     "name": "stdout",
     "output_type": "stream",
     "text": [
      "0\n",
      "7\n"
     ]
    }
   ],
   "execution_count": 12
  },
  {
   "metadata": {},
   "cell_type": "markdown",
   "source": [
    "### np.cumsum\n",
    "Return the cumulative sum of the elements along a given axis."
   ],
   "id": "842ac76be0cf8ece"
  },
  {
   "metadata": {
    "ExecuteTime": {
     "end_time": "2025-02-03T14:46:31.317943Z",
     "start_time": "2025-02-03T14:46:31.286385Z"
    }
   },
   "cell_type": "code",
   "source": [
    "arr = np.array([1,2,3,4,5,6])\n",
    "cumsum = np.cumsum(arr)\n",
    "print(cumsum)"
   ],
   "id": "bccc0353b5a48696",
   "outputs": [
    {
     "name": "stdout",
     "output_type": "stream",
     "text": [
      "[ 1  3  6 10 15 21]\n"
     ]
    }
   ],
   "execution_count": 13
  },
  {
   "metadata": {},
   "cell_type": "markdown",
   "source": [
    "### np.cumprod\n",
    "Return the cumulative product of the elements along a given axis."
   ],
   "id": "566d6ab67b0cf4b7"
  },
  {
   "metadata": {
    "ExecuteTime": {
     "end_time": "2025-02-03T14:46:31.440239Z",
     "start_time": "2025-02-03T14:46:31.424201Z"
    }
   },
   "cell_type": "code",
   "source": [
    "arr = np.array([1,2,3,4,5,6])\n",
    "cumprod = np.cumprod(arr)\n",
    "print(cumprod)"
   ],
   "id": "adfae51aa23012fd",
   "outputs": [
    {
     "name": "stdout",
     "output_type": "stream",
     "text": [
      "[  1   2   6  24 120 720]\n"
     ]
    }
   ],
   "execution_count": 14
  },
  {
   "metadata": {},
   "cell_type": "markdown",
   "source": [
    "### np.percentile\n",
    "np.percentile() is used to compute the nth percentile of the array elements along a given axis. It helps in understanding the distribution of data by indicating the value below which a given percentage of observations fall."
   ],
   "id": "55b87e1daddbc7b0"
  },
  {
   "metadata": {
    "ExecuteTime": {
     "end_time": "2025-02-03T14:46:31.711416Z",
     "start_time": "2025-02-03T14:46:31.632508Z"
    }
   },
   "cell_type": "code",
   "source": [
    "\n",
    "# Create an example array\n",
    "data = np.array([1, 2, 3, 4, 5])\n",
    "\n",
    "# Calculate the 50th percentile (median)\n",
    "percentile_50 = np.percentile(data, 50)\n",
    "\n",
    "print(\"The 50th percentile (median) of the data is:\", percentile_50)"
   ],
   "id": "ab83e1104d4fbd7f",
   "outputs": [
    {
     "name": "stdout",
     "output_type": "stream",
     "text": [
      "The 50th percentile (median) of the data is: 3.0\n"
     ]
    }
   ],
   "execution_count": 15
  },
  {
   "metadata": {},
   "cell_type": "markdown",
   "source": [
    "### np.histogram()\n",
    "np.histogram() computes the histogram of a set of data. It returns the counts or densities of values falling into specified bins."
   ],
   "id": "776ccfd5a92eda11"
  },
  {
   "metadata": {
    "ExecuteTime": {
     "end_time": "2025-02-03T14:46:31.884992Z",
     "start_time": "2025-02-03T14:46:31.845153Z"
    }
   },
   "cell_type": "code",
   "source": [
    "\n",
    "# Create an example array\n",
    "data = np.array([1, 2, 3, 4, 5, 6, 7, 8, 9])\n",
    "\n",
    "# Define bin edges\n",
    "bins = [0, 2, 4, 6, 8, 10]\n",
    "\n",
    "# Compute the histogram\n",
    "counts, bin_edges = np.histogram(data, bins)\n",
    "\n",
    "print(\"Counts per bin:\", counts)\n",
    "print(\"Bin edges:\", bin_edges)"
   ],
   "id": "9b56efe132edc83e",
   "outputs": [
    {
     "name": "stdout",
     "output_type": "stream",
     "text": [
      "Counts per bin: [1 2 2 2 2]\n",
      "Bin edges: [ 0  2  4  6  8 10]\n"
     ]
    }
   ],
   "execution_count": 16
  },
  {
   "metadata": {},
   "cell_type": "markdown",
   "source": [
    "### np.isin\n",
    "This function checks whether each element of the input array `a` is present in the test-array `b`."
   ],
   "id": "f4e39902381e27d6"
  },
  {
   "metadata": {
    "ExecuteTime": {
     "end_time": "2025-02-03T15:04:54.984739Z",
     "start_time": "2025-02-03T15:04:54.953489Z"
    }
   },
   "cell_type": "code",
   "source": [
    "a = np.array([1,2,3,4,5])\n",
    "b = np.array([5,6,1,2,4])\n",
    "isin = np.isin(a,b)\n",
    "print(isin)"
   ],
   "id": "80e3ec7196b0bce1",
   "outputs": [
    {
     "name": "stdout",
     "output_type": "stream",
     "text": [
      "[ True  True False  True  True]\n"
     ]
    }
   ],
   "execution_count": 18
  },
  {
   "metadata": {},
   "cell_type": "markdown",
   "source": [
    "### np.flip\n",
    "reverse the order of array element along specified axis"
   ],
   "id": "ab05581dd39a3744"
  },
  {
   "metadata": {
    "ExecuteTime": {
     "end_time": "2025-02-03T15:06:22.180710Z",
     "start_time": "2025-02-03T15:06:22.133773Z"
    }
   },
   "cell_type": "code",
   "source": [
    "arr = np.array([1,2,3,4,5])\n",
    "flip = np.flip(arr)\n",
    "print(flip)"
   ],
   "id": "9cddedf5e3a48311",
   "outputs": [
    {
     "name": "stdout",
     "output_type": "stream",
     "text": [
      "[5 4 3 2 1]\n"
     ]
    }
   ],
   "execution_count": 19
  },
  {
   "metadata": {
    "ExecuteTime": {
     "end_time": "2025-02-03T15:11:58.599927Z",
     "start_time": "2025-02-03T15:11:58.568697Z"
    }
   },
   "cell_type": "code",
   "source": [
    "matrix = np.array([[1,2],[3,4],[5,6]])\n",
    "print(matrix)\n",
    "matrix_flip = np.flip(matrix,axis=1)\n",
    "print(matrix_flip)"
   ],
   "id": "c7092ed508236ab4",
   "outputs": [
    {
     "name": "stdout",
     "output_type": "stream",
     "text": [
      "[[1 2]\n",
      " [3 4]\n",
      " [5 6]]\n",
      "[[2 1]\n",
      " [4 3]\n",
      " [6 5]]\n"
     ]
    }
   ],
   "execution_count": 25
  },
  {
   "metadata": {},
   "cell_type": "markdown",
   "source": [
    "### np.put\n",
    " `np.put(arr, indices, values)` replaces the elements of `arr` at the specified `indices` with\n",
    "the corresponding values from `values`."
   ],
   "id": "1ebced4e34580a4e"
  },
  {
   "metadata": {
    "ExecuteTime": {
     "end_time": "2025-02-03T15:21:33.726698Z",
     "start_time": "2025-02-03T15:21:33.709834Z"
    }
   },
   "cell_type": "code",
   "source": [
    "arr = np.array([[1,2],[3,4],[5,6]])\n",
    "print(arr)\n",
    "np.put(arr,[0,2],[3,4])\n",
    "print(arr)"
   ],
   "id": "d58488de773044db",
   "outputs": [
    {
     "name": "stdout",
     "output_type": "stream",
     "text": [
      "[[1 2]\n",
      " [3 4]\n",
      " [5 6]]\n",
      "[[3 2]\n",
      " [4 4]\n",
      " [5 6]]\n"
     ]
    }
   ],
   "execution_count": 34
  },
  {
   "metadata": {},
   "cell_type": "markdown",
   "source": [
    "### np.delete\n",
    "`np.delete(arr, indices)` removes the elements at the specified `indices` from the array `arr`"
   ],
   "id": "c30ae8f92a9cb1b7"
  },
  {
   "metadata": {
    "ExecuteTime": {
     "end_time": "2025-02-03T15:25:14.971250Z",
     "start_time": "2025-02-03T15:25:14.958892Z"
    }
   },
   "cell_type": "code",
   "source": [
    "arr = np.array([1,2,3,4,5])\n",
    "delete = np.delete(arr,[0,2])\n",
    "print(delete)"
   ],
   "id": "4fdcfb060e2e7421",
   "outputs": [
    {
     "name": "stdout",
     "output_type": "stream",
     "text": [
      "[2 4 5]\n"
     ]
    }
   ],
   "execution_count": 36
  }
 ],
 "metadata": {
  "kernelspec": {
   "display_name": "Python 3",
   "language": "python",
   "name": "python3"
  },
  "language_info": {
   "codemirror_mode": {
    "name": "ipython",
    "version": 2
   },
   "file_extension": ".py",
   "mimetype": "text/x-python",
   "name": "python",
   "nbconvert_exporter": "python",
   "pygments_lexer": "ipython2",
   "version": "2.7.6"
  }
 },
 "nbformat": 4,
 "nbformat_minor": 5
}
