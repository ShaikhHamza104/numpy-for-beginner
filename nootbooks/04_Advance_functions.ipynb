{
 "cells": [
  {
   "metadata": {},
   "cell_type": "markdown",
   "source": [
    "### np.sort\n",
    "Return a sorted copy of an array"
   ],
   "id": "4cc75ccddc991a0b"
  },
  {
   "metadata": {
    "ExecuteTime": {
     "end_time": "2025-02-02T15:25:51.226049Z",
     "start_time": "2025-02-02T15:25:50.737048Z"
    }
   },
   "cell_type": "code",
   "source": [
    "import  numpy as np\n",
    "a = np.random.randint(0,100,24)\n",
    "a"
   ],
   "id": "3741c60b7ea9fc76",
   "outputs": [
    {
     "data": {
      "text/plain": [
       "array([44, 63, 90,  2, 73, 27, 14, 26, 70, 99, 23, 65, 70, 50, 92, 66, 48,\n",
       "       53, 18, 69, 17, 52, 47,  4], dtype=int32)"
      ]
     },
     "execution_count": 1,
     "metadata": {},
     "output_type": "execute_result"
    }
   ],
   "execution_count": 1
  },
  {
   "metadata": {
    "ExecuteTime": {
     "end_time": "2025-02-02T13:39:56.894593Z",
     "start_time": "2025-02-02T13:39:56.861316Z"
    }
   },
   "cell_type": "code",
   "source": [
    "#Acending order\n",
    "print(np.sort(a))\n",
    "#decending order\n",
    "print(np.sort(a)[::-1])"
   ],
   "id": "efa4a7f1bdfcb515",
   "outputs": [
    {
     "name": "stdout",
     "output_type": "stream",
     "text": [
      "[ 1 13 17 19 20 20 21 29 34 35 36 44 45 63 65 67 71 76 78 92 95 95 96 99]\n",
      "[99 96 95 95 92 78 76 71 67 65 63 45 44 36 35 34 29 21 20 20 19 17 13  1]\n"
     ]
    }
   ],
   "execution_count": 3
  },
  {
   "metadata": {
    "ExecuteTime": {
     "end_time": "2025-02-02T13:39:57.255604Z",
     "start_time": "2025-02-02T13:39:57.224456Z"
    }
   },
   "cell_type": "code",
   "source": "b = np.random.randint(0,100,24).reshape(4,6)",
   "id": "670edbfad6b1202c",
   "outputs": [],
   "execution_count": 4
  },
  {
   "metadata": {
    "ExecuteTime": {
     "end_time": "2025-02-02T13:39:57.393815Z",
     "start_time": "2025-02-02T13:39:57.353592Z"
    }
   },
   "cell_type": "code",
   "source": "print(b)",
   "id": "b0f3d50e6c5baf8",
   "outputs": [
    {
     "name": "stdout",
     "output_type": "stream",
     "text": [
      "[[38  5 55 25  7 42]\n",
      " [52 53 10 55 39 35]\n",
      " [97  0 51 97 65 90]\n",
      " [51  8 67 12  6 25]]\n"
     ]
    }
   ],
   "execution_count": 5
  },
  {
   "metadata": {
    "ExecuteTime": {
     "end_time": "2025-02-02T13:39:57.859957Z",
     "start_time": "2025-02-02T13:39:57.784983Z"
    }
   },
   "cell_type": "code",
   "source": [
    "# sort based on row\n",
    "print(np.sort(b))\n",
    "# Sort based on colum\n",
    "print(np.sort(b,axis=0))"
   ],
   "id": "4af65c5d08ef650f",
   "outputs": [
    {
     "name": "stdout",
     "output_type": "stream",
     "text": [
      "[[ 5  7 25 38 42 55]\n",
      " [10 35 39 52 53 55]\n",
      " [ 0 51 65 90 97 97]\n",
      " [ 6  8 12 25 51 67]]\n",
      "[[38  0 10 12  6 25]\n",
      " [51  5 51 25  7 35]\n",
      " [52  8 55 55 39 42]\n",
      " [97 53 67 97 65 90]]\n"
     ]
    }
   ],
   "execution_count": 6
  },
  {
   "metadata": {},
   "cell_type": "markdown",
   "source": [
    "### np.append\n",
    "append value at the end of an array and create a new array"
   ],
   "id": "49fe899501c1c674"
  },
  {
   "metadata": {
    "ExecuteTime": {
     "end_time": "2025-02-02T13:43:45.890611Z",
     "start_time": "2025-02-02T13:43:45.506233Z"
    }
   },
   "cell_type": "code",
   "source": [
    "a = np.array([1,2,3,4,5])\n",
    "print(a)\n",
    "new_arr = np.append(a,10)\n",
    "print(new_arr)"
   ],
   "id": "9b85cfb15191d728",
   "outputs": [
    {
     "name": "stdout",
     "output_type": "stream",
     "text": [
      "[1 2 3 4 5]\n",
      "[ 1  2  3  4  5 10]\n"
     ]
    }
   ],
   "execution_count": 8
  },
  {
   "metadata": {},
   "cell_type": "markdown",
   "source": [
    "### np.concatenate\n",
    "The `np.concatenate` function is a powerful tool for combining multiple arrays into a single array. It's often\n",
    "used to stack or concatenate arrays along a particular axis"
   ],
   "id": "6e5919775ee49a73"
  },
  {
   "metadata": {
    "ExecuteTime": {
     "end_time": "2025-02-02T13:50:54.068746Z",
     "start_time": "2025-02-02T13:50:53.990627Z"
    }
   },
   "cell_type": "code",
   "source": [
    "c = np.arange(6).reshape(2,3)\n",
    "d = np.arange(6,12).reshape(2,3)\n",
    "print(c)\n",
    "print(d)\n",
    "print(np.concatenate((c,d)))\n",
    "print(np.concat((c,d),axis=0))"
   ],
   "id": "bce9a94135f5ea98",
   "outputs": [
    {
     "name": "stdout",
     "output_type": "stream",
     "text": [
      "[[0 1 2]\n",
      " [3 4 5]]\n",
      "[[ 6  7  8]\n",
      " [ 9 10 11]]\n",
      "[[ 0  1  2]\n",
      " [ 3  4  5]\n",
      " [ 6  7  8]\n",
      " [ 9 10 11]]\n",
      "[[ 0  1  2]\n",
      " [ 3  4  5]\n",
      " [ 6  7  8]\n",
      " [ 9 10 11]]\n"
     ]
    }
   ],
   "execution_count": 23
  },
  {
   "metadata": {},
   "cell_type": "markdown",
   "source": [
    "### np.unique\n",
    "return the unique elements from an array"
   ],
   "id": "2ad34b2c3b151c28"
  },
  {
   "metadata": {
    "ExecuteTime": {
     "end_time": "2025-02-02T16:33:42.718578Z",
     "start_time": "2025-02-02T16:33:42.695050Z"
    }
   },
   "cell_type": "code",
   "source": [
    "a = np.array([1,1,2,3,2,1,4,5,2,4])\n",
    "np.unique(a)"
   ],
   "id": "c271e74a09f7f00",
   "outputs": [
    {
     "data": {
      "text/plain": [
       "array([1, 2, 3, 4, 5])"
      ]
     },
     "execution_count": 2,
     "metadata": {},
     "output_type": "execute_result"
    }
   ],
   "execution_count": 2
  }
 ],
 "metadata": {
  "kernelspec": {
   "display_name": "Python 3",
   "language": "python",
   "name": "python3"
  },
  "language_info": {
   "codemirror_mode": {
    "name": "ipython",
    "version": 2
   },
   "file_extension": ".py",
   "mimetype": "text/x-python",
   "name": "python",
   "nbconvert_exporter": "python",
   "pygments_lexer": "ipython2",
   "version": "2.7.6"
  }
 },
 "nbformat": 4,
 "nbformat_minor": 5
}
