{
 "cells": [
  {
   "metadata": {},
   "cell_type": "markdown",
   "source": [
    "### Linear Algebra\n",
    "The Linear Algebra module of NumPy offers various methods to apply linear algebra on any numpy array."
   ],
   "id": "78a0d842ca53e330"
  },
  {
   "metadata": {
    "ExecuteTime": {
     "end_time": "2025-02-03T15:38:15.644155Z",
     "start_time": "2025-02-03T15:38:15.628519Z"
    }
   },
   "cell_type": "code",
   "source": "import numpy as np",
   "id": "d36c16b6a7bb52a7",
   "outputs": [],
   "execution_count": 4
  },
  {
   "metadata": {},
   "cell_type": "markdown",
   "source": [
    "### np.transpose\n",
    "transpose of a matrix"
   ],
   "id": "2a022cb01a44ebb"
  },
  {
   "metadata": {
    "ExecuteTime": {
     "end_time": "2025-02-03T15:39:52.247965Z",
     "start_time": "2025-02-03T15:39:52.216608Z"
    }
   },
   "cell_type": "code",
   "source": [
    "transpose = np.array([[1,2,3],[4,5,6]])\n",
    "print(transpose.T)"
   ],
   "id": "45d9a3b69fd9d98e",
   "outputs": [
    {
     "name": "stdout",
     "output_type": "stream",
     "text": [
      "[[1 4]\n",
      " [2 5]\n",
      " [3 6]]\n"
     ]
    }
   ],
   "execution_count": 5
  },
  {
   "metadata": {},
   "cell_type": "markdown",
   "source": [
    "### np.linalg.del\n",
    "Determinant of a Matrix"
   ],
   "id": "64e2b11d140471b7"
  },
  {
   "metadata": {
    "ExecuteTime": {
     "end_time": "2025-02-03T15:43:31.121736Z",
     "start_time": "2025-02-03T15:43:31.106072Z"
    }
   },
   "cell_type": "code",
   "source": [
    "a = np.array([[1,2],[4,5]])\n",
    "determinate = np.linalg.det(a)\n",
    "print(determinate)"
   ],
   "id": "f25e353580ec2b1b",
   "outputs": [
    {
     "name": "stdout",
     "output_type": "stream",
     "text": [
      "-2.9999999999999996\n"
     ]
    }
   ],
   "execution_count": 10
  },
  {
   "metadata": {},
   "cell_type": "markdown",
   "source": [
    "### dot product\n",
    "return Dot product"
   ],
   "id": "9f6020ded73c3664"
  },
  {
   "metadata": {
    "ExecuteTime": {
     "end_time": "2025-02-03T15:46:52.894467Z",
     "start_time": "2025-02-03T15:46:52.862628Z"
    }
   },
   "cell_type": "code",
   "source": [
    "a = np.array([[1,2],[4,5]])\n",
    "b = np.array([[6,7],[8,9]])\n",
    "dot = np.dot(a,b)\n",
    "print(dot)"
   ],
   "id": "5e76bd0e72290d1",
   "outputs": [
    {
     "name": "stdout",
     "output_type": "stream",
     "text": [
      "[[22 25]\n",
      " [64 73]]\n"
     ]
    }
   ],
   "execution_count": 14
  }
 ],
 "metadata": {
  "kernelspec": {
   "display_name": "Python 3",
   "language": "python",
   "name": "python3"
  },
  "language_info": {
   "codemirror_mode": {
    "name": "ipython",
    "version": 2
   },
   "file_extension": ".py",
   "mimetype": "text/x-python",
   "name": "python",
   "nbconvert_exporter": "python",
   "pygments_lexer": "ipython2",
   "version": "2.7.6"
  }
 },
 "nbformat": 4,
 "nbformat_minor": 5
}
