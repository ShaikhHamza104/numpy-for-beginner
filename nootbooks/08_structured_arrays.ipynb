{
 "cells": [
  {
   "metadata": {},
   "cell_type": "markdown",
   "source": [
    "### Structured Arrays\n",
    "Each field in the array has a name, data type, and optional shape/byte order.\n",
    "\n",
    "python\n"
   ],
   "id": "e429cb1bf0092980"
  },
  {
   "metadata": {
    "ExecuteTime": {
     "end_time": "2025-02-04T09:24:25.277790Z",
     "start_time": "2025-02-04T09:24:25.263097Z"
    }
   },
   "cell_type": "code",
   "source": [
    "import numpy as np\n",
    "\n",
    "# 1. Define a dtype with fields: name (string), age (int), weight (float)\n",
    "dtype = np.dtype([\n",
    "    ('name', 'U10'),  # Unicode string of length 10\n",
    "    ('age', 'i4'),    # 4-byte integer\n",
    "    ('weight', 'f8')  # 8-byte float\n",
    "])\n",
    "# From a list of tuples\n",
    "data = [('Alice', 25, 55.5), ('Bob', 30, 75.2)]\n",
    "arr = np.array(data, dtype=dtype)\n",
    "arr"
   ],
   "id": "4caf281fda61ed87",
   "outputs": [
    {
     "data": {
      "text/plain": [
       "array([('Alice', 25, 55.5), ('Bob', 30, 75.2)],\n",
       "      dtype=[('name', '<U10'), ('age', '<i4'), ('weight', '<f8')])"
      ]
     },
     "execution_count": 5,
     "metadata": {},
     "output_type": "execute_result"
    }
   ],
   "execution_count": 5
  },
  {
   "metadata": {
    "ExecuteTime": {
     "end_time": "2025-02-04T09:24:42.924772Z",
     "start_time": "2025-02-04T09:24:42.909237Z"
    }
   },
   "cell_type": "code",
   "source": [
    "# 2. Accessing Data\n",
    "# Access Fields by Name:\n",
    "print(arr['name'])  # ['Alice' 'Bob']\n",
    "print(arr['age'])   # [25 30]"
   ],
   "id": "2273e52f2b37f174",
   "outputs": [
    {
     "name": "stdout",
     "output_type": "stream",
     "text": [
      "['Alice' 'Bob']\n",
      "[25 30]\n"
     ]
    }
   ],
   "execution_count": 6
  },
  {
   "metadata": {
    "ExecuteTime": {
     "end_time": "2025-02-04T09:25:39.911023Z",
     "start_time": "2025-02-04T09:25:39.888190Z"
    }
   },
   "cell_type": "code",
   "source": [
    "# Access Rows by Index:\n",
    "print(arr[0])  # ('Alice', 25, 55.5)"
   ],
   "id": "82ecb190b13bed93",
   "outputs": [
    {
     "name": "stdout",
     "output_type": "stream",
     "text": [
      "('Alice', 25, 55.5)\n"
     ]
    }
   ],
   "execution_count": 7
  },
  {
   "metadata": {
    "ExecuteTime": {
     "end_time": "2025-02-04T09:26:10.106143Z",
     "start_time": "2025-02-04T09:26:10.090269Z"
    }
   },
   "cell_type": "code",
   "source": [
    "# Modify Values:\n",
    "arr['age'] = [26, 31]  # Update all ages\n",
    "arr"
   ],
   "id": "ff7d79cb498f477d",
   "outputs": [
    {
     "data": {
      "text/plain": [
       "array([('Alice', 26, 55.5), ('Bob', 31, 75.2)],\n",
       "      dtype=[('name', '<U10'), ('age', '<i4'), ('weight', '<f8')])"
      ]
     },
     "execution_count": 9,
     "metadata": {},
     "output_type": "execute_result"
    }
   ],
   "execution_count": 9
  },
  {
   "metadata": {
    "ExecuteTime": {
     "end_time": "2025-02-04T09:27:28.513371Z",
     "start_time": "2025-02-04T09:27:28.499611Z"
    }
   },
   "cell_type": "code",
   "source": [
    "# 3. Advanced Creation Methods\n",
    "# From Mixed Data:\n",
    "# Initialize an empty array and fill fields\n",
    "arr = np.empty(2, dtype=dtype)\n",
    "arr['name'] = ['Alice', 'Bob']\n",
    "arr['age'] = [25, 30]\n",
    "arr"
   ],
   "id": "c8282fd84a9f5a7a",
   "outputs": [
    {
     "data": {
      "text/plain": [
       "array([('Alice', 25, 0.), ('Bob', 30, 0.)],\n",
       "      dtype=[('name', '<U10'), ('age', '<i4'), ('weight', '<f8')])"
      ]
     },
     "execution_count": 11,
     "metadata": {},
     "output_type": "execute_result"
    }
   ],
   "execution_count": 11
  },
  {
   "metadata": {
    "ExecuteTime": {
     "end_time": "2025-02-04T09:31:49.290969Z",
     "start_time": "2025-02-04T09:31:49.278622Z"
    }
   },
   "cell_type": "code",
   "source": [
    "# 4. Operations on Structured Arrays\n",
    "print(arr['age'].mean())\n",
    "print(arr['age'].min())\n",
    "print(arr['age'].max())\n",
    "print(arr['age'].sum())"
   ],
   "id": "15aad362a1f2015b",
   "outputs": [
    {
     "name": "stdout",
     "output_type": "stream",
     "text": [
      "27.5\n",
      "25\n",
      "30\n",
      "55\n"
     ]
    }
   ],
   "execution_count": 17
  }
 ],
 "metadata": {
  "kernelspec": {
   "display_name": "Python 3",
   "language": "python",
   "name": "python3"
  },
  "language_info": {
   "codemirror_mode": {
    "name": "ipython",
    "version": 2
   },
   "file_extension": ".py",
   "mimetype": "text/x-python",
   "name": "python",
   "nbconvert_exporter": "python",
   "pygments_lexer": "ipython2",
   "version": "2.7.6"
  }
 },
 "nbformat": 4,
 "nbformat_minor": 5
}
